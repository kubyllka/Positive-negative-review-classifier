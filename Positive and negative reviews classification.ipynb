{
 "cells": [
  {
   "cell_type": "markdown",
   "id": "934abe73",
   "metadata": {},
   "source": [
    "# Positive and negative reviews classification"
   ]
  },
  {
   "cell_type": "markdown",
   "id": "599da1ef",
   "metadata": {},
   "source": [
    "Task 5 - NLP - Positive and negative reviews classification\n",
    "You’re given a dataset of product reviews by customers. The task is simply to classify reviews as positive or negative ones, achieving the best balanced accuracy you can. However, your solution should also be efficient and capable of running even on lower-tier machines. We don’t set any strict conditions besides the solution not requiring GPU and running reasonably fast on lower-end CPUs, but your creativity and skills in terms of squeezing the best performance from lightweight pipelines will be appreciated. While the main output of your work is the inference code for us to test it, we encourage you to also provide any additional code/notebooks (EDA, training, etc.). Their good quality will be an advantage.\n",
    "\n",
    "The dataset is provided as 2 standard comma-separated CSV files. Each of them contains review IDs and either reviews themselves or their labels, respectively. Your solution will be evaluated on a private test dataset that is sampled from the same data distribution as the one provided to you. Feel free to train your model on the provided dataset from scratch or use third-party datasets for pretraining.\n",
    "\n",
    "When delivering your solution, the inference code should be placed in a separate script called inference.py. It should be possible to install all the necessary packages to run it from requirements.txt using pip. All the additional files, like saved model parameters, should be placed near the inference script and loaded automatically. The inference script should accept an input file and write classification results into an output file in the same format as the provided dataset. A command to run your script should look as follows:\n",
    "python3 inference.py test_reviews.csv test_labels_pred.csv\n",
    "\n",
    "All the additional code can be provided either as plain Python scripts or Jupyter notebooks without any specific requirements for their interface. You’re encouraged to add a README on how to use them properly.\n",
    "\n",
    "Deliverable: \n",
    "Working training and inference code, \n",
    "Any necessary supplementary files, \n",
    "A short report [in English] on the principle of operation of your solution (better with some illustrations)\n"
   ]
  },
  {
   "cell_type": "markdown",
   "id": "63b1f41d",
   "metadata": {},
   "source": [
    "## Import necessary libraries\n"
   ]
  },
  {
   "cell_type": "code",
   "execution_count": 1,
   "id": "f6726aef",
   "metadata": {},
   "outputs": [
    {
     "name": "stderr",
     "output_type": "stream",
     "text": [
      "[nltk_data] Downloading package punkt to\n",
      "[nltk_data]     C:\\Users\\пк\\AppData\\Roaming\\nltk_data...\n",
      "[nltk_data]   Package punkt is already up-to-date!\n",
      "[nltk_data] Downloading package stopwords to\n",
      "[nltk_data]     C:\\Users\\пк\\AppData\\Roaming\\nltk_data...\n",
      "[nltk_data]   Package stopwords is already up-to-date!\n"
     ]
    },
    {
     "data": {
      "text/plain": [
       "True"
      ]
     },
     "execution_count": 1,
     "metadata": {},
     "output_type": "execute_result"
    }
   ],
   "source": [
    "import csv\n",
    "import string\n",
    "import numpy as np\n",
    "import pandas as pd\n",
    "import tensorflow as tf\n",
    "import matplotlib.pyplot as plt\n",
    "from tensorflow.keras.preprocessing.text import Tokenizer\n",
    "from tensorflow.keras.preprocessing.sequence import pad_sequences\n",
    "from sklearn.model_selection import train_test_split\n",
    "from sklearn.metrics import accuracy_score, classification_report\n",
    "from tensorflow.keras.metrics import Precision, Recall, AUC\n",
    "from tensorflow.keras.callbacks import ModelCheckpoint, EarlyStopping, ReduceLROnPlateau\n",
    "import nltk\n",
    "from nltk.corpus import stopwords\n",
    "from nltk.stem import PorterStemmer\n",
    "from nltk.tokenize import word_tokenize\n",
    "nltk.download('punkt')\n",
    "nltk.download('stopwords')"
   ]
  },
  {
   "cell_type": "markdown",
   "id": "55ea10df",
   "metadata": {},
   "source": [
    "## The main thing to pay attention to\n",
    "<li>Tokenization, stemming and removing stopwords - reduce the size of vocab -> smaller time for training\n",
    "<li>Simple model (LSTM or CNN) with 2-3 layers\n",
    "<li>Using mini-batches for training\n",
    "<li>Hyperparameter Tuning (small embedding_dim !)\n",
    "<li>High risk of overfitting beacause of small data, so using Regularization (for example, dropout or L1, L2 regularization)"
   ]
  },
  {
   "cell_type": "markdown",
   "id": "c1e811b5",
   "metadata": {},
   "source": [
    "## Import .csv files with data"
   ]
  },
  {
   "cell_type": "code",
   "execution_count": 2,
   "id": "8131f4a2",
   "metadata": {},
   "outputs": [],
   "source": [
    "reviews_df = pd.read_csv('reviews.csv')\n",
    "labels_df = pd.read_csv('labels.csv')"
   ]
  },
  {
   "cell_type": "markdown",
   "id": "699c8bf0",
   "metadata": {},
   "source": [
    "## Data Preprocessing"
   ]
  },
  {
   "cell_type": "code",
   "execution_count": 3,
   "id": "3ececbc5",
   "metadata": {},
   "outputs": [
    {
     "data": {
      "text/html": [
       "<div>\n",
       "<style scoped>\n",
       "    .dataframe tbody tr th:only-of-type {\n",
       "        vertical-align: middle;\n",
       "    }\n",
       "\n",
       "    .dataframe tbody tr th {\n",
       "        vertical-align: top;\n",
       "    }\n",
       "\n",
       "    .dataframe thead th {\n",
       "        text-align: right;\n",
       "    }\n",
       "</style>\n",
       "<table border=\"1\" class=\"dataframe\">\n",
       "  <thead>\n",
       "    <tr style=\"text-align: right;\">\n",
       "      <th></th>\n",
       "      <th>id</th>\n",
       "      <th>text</th>\n",
       "    </tr>\n",
       "  </thead>\n",
       "  <tbody>\n",
       "    <tr>\n",
       "      <th>0</th>\n",
       "      <td>168</td>\n",
       "      <td>Hi Leah, I ordered this early to give to a co-...</td>\n",
       "    </tr>\n",
       "    <tr>\n",
       "      <th>1</th>\n",
       "      <td>26</td>\n",
       "      <td>Good evening, \\n  I just received my order! I ...</td>\n",
       "    </tr>\n",
       "    <tr>\n",
       "      <th>2</th>\n",
       "      <td>64</td>\n",
       "      <td>I couldn’t find where I could write a review b...</td>\n",
       "    </tr>\n",
       "    <tr>\n",
       "      <th>3</th>\n",
       "      <td>10</td>\n",
       "      <td>I received my order today and gave it to my si...</td>\n",
       "    </tr>\n",
       "    <tr>\n",
       "      <th>4</th>\n",
       "      <td>111</td>\n",
       "      <td>﻿Max,\\n\\nWe received the heart but sadly are d...</td>\n",
       "    </tr>\n",
       "  </tbody>\n",
       "</table>\n",
       "</div>"
      ],
      "text/plain": [
       "    id                                               text\n",
       "0  168  Hi Leah, I ordered this early to give to a co-...\n",
       "1   26  Good evening, \\n  I just received my order! I ...\n",
       "2   64  I couldn’t find where I could write a review b...\n",
       "3   10  I received my order today and gave it to my si...\n",
       "4  111  ﻿Max,\\n\\nWe received the heart but sadly are d..."
      ]
     },
     "execution_count": 3,
     "metadata": {},
     "output_type": "execute_result"
    }
   ],
   "source": [
    "reviews_df.head()"
   ]
  },
  {
   "cell_type": "code",
   "execution_count": 4,
   "id": "68a1bd55",
   "metadata": {},
   "outputs": [
    {
     "name": "stdout",
     "output_type": "stream",
     "text": [
      "<class 'pandas.core.frame.DataFrame'>\n",
      "RangeIndex: 254 entries, 0 to 253\n",
      "Data columns (total 2 columns):\n",
      " #   Column     Non-Null Count  Dtype \n",
      "---  ------     --------------  ----- \n",
      " 0   id         254 non-null    int64 \n",
      " 1   sentiment  254 non-null    object\n",
      "dtypes: int64(1), object(1)\n",
      "memory usage: 4.1+ KB\n"
     ]
    }
   ],
   "source": [
    "labels_df.info()"
   ]
  },
  {
   "cell_type": "code",
   "execution_count": 5,
   "id": "ff823b08",
   "metadata": {},
   "outputs": [
    {
     "data": {
      "text/html": [
       "<div>\n",
       "<style scoped>\n",
       "    .dataframe tbody tr th:only-of-type {\n",
       "        vertical-align: middle;\n",
       "    }\n",
       "\n",
       "    .dataframe tbody tr th {\n",
       "        vertical-align: top;\n",
       "    }\n",
       "\n",
       "    .dataframe thead th {\n",
       "        text-align: right;\n",
       "    }\n",
       "</style>\n",
       "<table border=\"1\" class=\"dataframe\">\n",
       "  <thead>\n",
       "    <tr style=\"text-align: right;\">\n",
       "      <th></th>\n",
       "      <th>id</th>\n",
       "      <th>sentiment</th>\n",
       "    </tr>\n",
       "  </thead>\n",
       "  <tbody>\n",
       "    <tr>\n",
       "      <th>0</th>\n",
       "      <td>168</td>\n",
       "      <td>Positive</td>\n",
       "    </tr>\n",
       "    <tr>\n",
       "      <th>1</th>\n",
       "      <td>26</td>\n",
       "      <td>Positive</td>\n",
       "    </tr>\n",
       "    <tr>\n",
       "      <th>2</th>\n",
       "      <td>64</td>\n",
       "      <td>Positive</td>\n",
       "    </tr>\n",
       "    <tr>\n",
       "      <th>3</th>\n",
       "      <td>10</td>\n",
       "      <td>Positive</td>\n",
       "    </tr>\n",
       "    <tr>\n",
       "      <th>4</th>\n",
       "      <td>111</td>\n",
       "      <td>Negative</td>\n",
       "    </tr>\n",
       "  </tbody>\n",
       "</table>\n",
       "</div>"
      ],
      "text/plain": [
       "    id sentiment\n",
       "0  168  Positive\n",
       "1   26  Positive\n",
       "2   64  Positive\n",
       "3   10  Positive\n",
       "4  111  Negative"
      ]
     },
     "execution_count": 5,
     "metadata": {},
     "output_type": "execute_result"
    }
   ],
   "source": [
    "labels_df.head()"
   ]
  },
  {
   "cell_type": "markdown",
   "id": "7166893b",
   "metadata": {},
   "source": [
    "Therefore, there are no null values in the datasets, so there is no need for null values or any special preparation."
   ]
  },
  {
   "cell_type": "markdown",
   "id": "63eb0845",
   "metadata": {},
   "source": [
    "## Merge two tables on review id"
   ]
  },
  {
   "cell_type": "code",
   "execution_count": 6,
   "id": "23edf040",
   "metadata": {},
   "outputs": [],
   "source": [
    "combined_df = pd.merge(labels_df, reviews_df, on='id')"
   ]
  },
  {
   "cell_type": "code",
   "execution_count": 7,
   "id": "a204af48",
   "metadata": {},
   "outputs": [
    {
     "data": {
      "text/html": [
       "<div>\n",
       "<style scoped>\n",
       "    .dataframe tbody tr th:only-of-type {\n",
       "        vertical-align: middle;\n",
       "    }\n",
       "\n",
       "    .dataframe tbody tr th {\n",
       "        vertical-align: top;\n",
       "    }\n",
       "\n",
       "    .dataframe thead th {\n",
       "        text-align: right;\n",
       "    }\n",
       "</style>\n",
       "<table border=\"1\" class=\"dataframe\">\n",
       "  <thead>\n",
       "    <tr style=\"text-align: right;\">\n",
       "      <th></th>\n",
       "      <th>id</th>\n",
       "      <th>sentiment</th>\n",
       "      <th>text</th>\n",
       "    </tr>\n",
       "  </thead>\n",
       "  <tbody>\n",
       "    <tr>\n",
       "      <th>0</th>\n",
       "      <td>168</td>\n",
       "      <td>Positive</td>\n",
       "      <td>Hi Leah, I ordered this early to give to a co-...</td>\n",
       "    </tr>\n",
       "    <tr>\n",
       "      <th>1</th>\n",
       "      <td>26</td>\n",
       "      <td>Positive</td>\n",
       "      <td>Good evening, \\n  I just received my order! I ...</td>\n",
       "    </tr>\n",
       "    <tr>\n",
       "      <th>2</th>\n",
       "      <td>64</td>\n",
       "      <td>Positive</td>\n",
       "      <td>I couldn’t find where I could write a review b...</td>\n",
       "    </tr>\n",
       "    <tr>\n",
       "      <th>3</th>\n",
       "      <td>10</td>\n",
       "      <td>Positive</td>\n",
       "      <td>I received my order today and gave it to my si...</td>\n",
       "    </tr>\n",
       "    <tr>\n",
       "      <th>4</th>\n",
       "      <td>111</td>\n",
       "      <td>Negative</td>\n",
       "      <td>﻿Max,\\n\\nWe received the heart but sadly are d...</td>\n",
       "    </tr>\n",
       "  </tbody>\n",
       "</table>\n",
       "</div>"
      ],
      "text/plain": [
       "    id sentiment                                               text\n",
       "0  168  Positive  Hi Leah, I ordered this early to give to a co-...\n",
       "1   26  Positive  Good evening, \\n  I just received my order! I ...\n",
       "2   64  Positive  I couldn’t find where I could write a review b...\n",
       "3   10  Positive  I received my order today and gave it to my si...\n",
       "4  111  Negative  ﻿Max,\\n\\nWe received the heart but sadly are d..."
      ]
     },
     "execution_count": 7,
     "metadata": {},
     "output_type": "execute_result"
    }
   ],
   "source": [
    "combined_df.head()"
   ]
  },
  {
   "cell_type": "code",
   "execution_count": 8,
   "id": "333bc9dd",
   "metadata": {},
   "outputs": [
    {
     "name": "stdout",
     "output_type": "stream",
     "text": [
      "<class 'pandas.core.frame.DataFrame'>\n",
      "Int64Index: 254 entries, 0 to 253\n",
      "Data columns (total 3 columns):\n",
      " #   Column     Non-Null Count  Dtype \n",
      "---  ------     --------------  ----- \n",
      " 0   id         254 non-null    int64 \n",
      " 1   sentiment  254 non-null    object\n",
      " 2   text       254 non-null    object\n",
      "dtypes: int64(1), object(2)\n",
      "memory usage: 7.9+ KB\n"
     ]
    }
   ],
   "source": [
    "combined_df.info()"
   ]
  },
  {
   "cell_type": "markdown",
   "id": "f5b9d86d",
   "metadata": {},
   "source": [
    "# Now replace the sentiment column from labels with a binary value. Suppose **positive - 1, negative - 0**\n"
   ]
  },
  {
   "cell_type": "code",
   "execution_count": 9,
   "id": "1259aeea",
   "metadata": {},
   "outputs": [],
   "source": [
    "combined_df['label'] = combined_df['sentiment'].map({'Negative': 0, 'Positive': 1})"
   ]
  },
  {
   "cell_type": "code",
   "execution_count": 10,
   "id": "fd58567a",
   "metadata": {},
   "outputs": [
    {
     "data": {
      "text/html": [
       "<div>\n",
       "<style scoped>\n",
       "    .dataframe tbody tr th:only-of-type {\n",
       "        vertical-align: middle;\n",
       "    }\n",
       "\n",
       "    .dataframe tbody tr th {\n",
       "        vertical-align: top;\n",
       "    }\n",
       "\n",
       "    .dataframe thead th {\n",
       "        text-align: right;\n",
       "    }\n",
       "</style>\n",
       "<table border=\"1\" class=\"dataframe\">\n",
       "  <thead>\n",
       "    <tr style=\"text-align: right;\">\n",
       "      <th></th>\n",
       "      <th>id</th>\n",
       "      <th>sentiment</th>\n",
       "      <th>text</th>\n",
       "      <th>label</th>\n",
       "    </tr>\n",
       "  </thead>\n",
       "  <tbody>\n",
       "    <tr>\n",
       "      <th>0</th>\n",
       "      <td>168</td>\n",
       "      <td>Positive</td>\n",
       "      <td>Hi Leah, I ordered this early to give to a co-...</td>\n",
       "      <td>1</td>\n",
       "    </tr>\n",
       "    <tr>\n",
       "      <th>1</th>\n",
       "      <td>26</td>\n",
       "      <td>Positive</td>\n",
       "      <td>Good evening, \\n  I just received my order! I ...</td>\n",
       "      <td>1</td>\n",
       "    </tr>\n",
       "    <tr>\n",
       "      <th>2</th>\n",
       "      <td>64</td>\n",
       "      <td>Positive</td>\n",
       "      <td>I couldn’t find where I could write a review b...</td>\n",
       "      <td>1</td>\n",
       "    </tr>\n",
       "    <tr>\n",
       "      <th>3</th>\n",
       "      <td>10</td>\n",
       "      <td>Positive</td>\n",
       "      <td>I received my order today and gave it to my si...</td>\n",
       "      <td>1</td>\n",
       "    </tr>\n",
       "    <tr>\n",
       "      <th>4</th>\n",
       "      <td>111</td>\n",
       "      <td>Negative</td>\n",
       "      <td>﻿Max,\\n\\nWe received the heart but sadly are d...</td>\n",
       "      <td>0</td>\n",
       "    </tr>\n",
       "  </tbody>\n",
       "</table>\n",
       "</div>"
      ],
      "text/plain": [
       "    id sentiment                                               text  label\n",
       "0  168  Positive  Hi Leah, I ordered this early to give to a co-...      1\n",
       "1   26  Positive  Good evening, \\n  I just received my order! I ...      1\n",
       "2   64  Positive  I couldn’t find where I could write a review b...      1\n",
       "3   10  Positive  I received my order today and gave it to my si...      1\n",
       "4  111  Negative  ﻿Max,\\n\\nWe received the heart but sadly are d...      0"
      ]
     },
     "execution_count": 10,
     "metadata": {},
     "output_type": "execute_result"
    }
   ],
   "source": [
    "combined_df.head()"
   ]
  },
  {
   "cell_type": "code",
   "execution_count": 11,
   "id": "aab6132b",
   "metadata": {},
   "outputs": [
    {
     "name": "stdout",
     "output_type": "stream",
     "text": [
      "<class 'pandas.core.frame.DataFrame'>\n",
      "Int64Index: 254 entries, 0 to 253\n",
      "Data columns (total 4 columns):\n",
      " #   Column     Non-Null Count  Dtype \n",
      "---  ------     --------------  ----- \n",
      " 0   id         254 non-null    int64 \n",
      " 1   sentiment  254 non-null    object\n",
      " 2   text       254 non-null    object\n",
      " 3   label      254 non-null    int64 \n",
      "dtypes: int64(2), object(2)\n",
      "memory usage: 9.9+ KB\n"
     ]
    }
   ],
   "source": [
    "combined_df.info()"
   ]
  },
  {
   "cell_type": "markdown",
   "id": "f07bce13",
   "metadata": {},
   "source": [
    "# Text Preprocessing\n",
    "Convert input text to lowercase, tokenizes it, removes punctuation and common English stop words, applies stemming to the remaining tokens."
   ]
  },
  {
   "cell_type": "code",
   "execution_count": 12,
   "id": "f9a3d693",
   "metadata": {},
   "outputs": [],
   "source": [
    "def preprocess_text(text):\n",
    "    \"\"\"\n",
    "    Takes an input text, converts it to lowercase,\n",
    "    tokenizes it,\n",
    "    removes punctuation and common English stop words,\n",
    "    applies stemming to the remaining tokens,\n",
    "    and returns the preprocessed text as a string. \n",
    "    \n",
    "    Args:\n",
    "        text (string): text that must be pre-processed\n",
    "    \n",
    "    Returns:\n",
    "        the preprocessed text as a string\n",
    "    \"\"\"\n",
    "    \n",
    "    \n",
    "    text = text.lower()\n",
    "    tokens = word_tokenize(text)\n",
    "    \n",
    "    # Stop_words in English like \"i\", \"me\", \"we\", \"myself\" and many others\n",
    "    stop_words = set(stopwords.words('english'))\n",
    "    \n",
    "    # Remove punctuation\n",
    "    tokens = [word for word in tokens if word not in string.punctuation]\n",
    "    \n",
    "    # Remove stop_words\n",
    "    filtered_tokens = [word for word in tokens if word not in stop_words]\n",
    "    \n",
    "    # Remove morphological affixes from words, leaving only the word stem\n",
    "    stemmer = PorterStemmer()\n",
    "    stemmed_tokens = [stemmer.stem(word) for word in filtered_tokens]\n",
    "    \n",
    "    # Return stemmed words\n",
    "    return \" \".join(stemmed_tokens)"
   ]
  },
  {
   "cell_type": "code",
   "execution_count": 13,
   "id": "3bacc278",
   "metadata": {},
   "outputs": [],
   "source": [
    "combined_df['preprocessed_text'] = combined_df['text'].apply(preprocess_text)"
   ]
  },
  {
   "cell_type": "code",
   "execution_count": 14,
   "id": "04d9b78e",
   "metadata": {},
   "outputs": [
    {
     "name": "stdout",
     "output_type": "stream",
     "text": [
      "<class 'pandas.core.frame.DataFrame'>\n",
      "Int64Index: 254 entries, 0 to 253\n",
      "Data columns (total 5 columns):\n",
      " #   Column             Non-Null Count  Dtype \n",
      "---  ------             --------------  ----- \n",
      " 0   id                 254 non-null    int64 \n",
      " 1   sentiment          254 non-null    object\n",
      " 2   text               254 non-null    object\n",
      " 3   label              254 non-null    int64 \n",
      " 4   preprocessed_text  254 non-null    object\n",
      "dtypes: int64(2), object(3)\n",
      "memory usage: 11.9+ KB\n"
     ]
    },
    {
     "data": {
      "text/html": [
       "<div>\n",
       "<style scoped>\n",
       "    .dataframe tbody tr th:only-of-type {\n",
       "        vertical-align: middle;\n",
       "    }\n",
       "\n",
       "    .dataframe tbody tr th {\n",
       "        vertical-align: top;\n",
       "    }\n",
       "\n",
       "    .dataframe thead th {\n",
       "        text-align: right;\n",
       "    }\n",
       "</style>\n",
       "<table border=\"1\" class=\"dataframe\">\n",
       "  <thead>\n",
       "    <tr style=\"text-align: right;\">\n",
       "      <th></th>\n",
       "      <th>id</th>\n",
       "      <th>sentiment</th>\n",
       "      <th>text</th>\n",
       "      <th>label</th>\n",
       "      <th>preprocessed_text</th>\n",
       "    </tr>\n",
       "  </thead>\n",
       "  <tbody>\n",
       "    <tr>\n",
       "      <th>0</th>\n",
       "      <td>168</td>\n",
       "      <td>Positive</td>\n",
       "      <td>Hi Leah, I ordered this early to give to a co-...</td>\n",
       "      <td>1</td>\n",
       "      <td>hi leah order earli give co-work christma gift...</td>\n",
       "    </tr>\n",
       "    <tr>\n",
       "      <th>1</th>\n",
       "      <td>26</td>\n",
       "      <td>Positive</td>\n",
       "      <td>Good evening, \\n  I just received my order! I ...</td>\n",
       "      <td>1</td>\n",
       "      <td>good even receiv order say- move tear detail c...</td>\n",
       "    </tr>\n",
       "    <tr>\n",
       "      <th>2</th>\n",
       "      <td>64</td>\n",
       "      <td>Positive</td>\n",
       "      <td>I couldn’t find where I could write a review b...</td>\n",
       "      <td>1</td>\n",
       "      <td>’ find could write review 5 star way order son...</td>\n",
       "    </tr>\n",
       "    <tr>\n",
       "      <th>3</th>\n",
       "      <td>10</td>\n",
       "      <td>Positive</td>\n",
       "      <td>I received my order today and gave it to my si...</td>\n",
       "      <td>1</td>\n",
       "      <td>receiv order today gave sister remind beauti d...</td>\n",
       "    </tr>\n",
       "    <tr>\n",
       "      <th>4</th>\n",
       "      <td>111</td>\n",
       "      <td>Negative</td>\n",
       "      <td>﻿Max,\\n\\nWe received the heart but sadly are d...</td>\n",
       "      <td>0</td>\n",
       "      <td>﻿max receiv heart sadli disappoint two scratch...</td>\n",
       "    </tr>\n",
       "  </tbody>\n",
       "</table>\n",
       "</div>"
      ],
      "text/plain": [
       "    id sentiment                                               text  label  \\\n",
       "0  168  Positive  Hi Leah, I ordered this early to give to a co-...      1   \n",
       "1   26  Positive  Good evening, \\n  I just received my order! I ...      1   \n",
       "2   64  Positive  I couldn’t find where I could write a review b...      1   \n",
       "3   10  Positive  I received my order today and gave it to my si...      1   \n",
       "4  111  Negative  ﻿Max,\\n\\nWe received the heart but sadly are d...      0   \n",
       "\n",
       "                                   preprocessed_text  \n",
       "0  hi leah order earli give co-work christma gift...  \n",
       "1  good even receiv order say- move tear detail c...  \n",
       "2  ’ find could write review 5 star way order son...  \n",
       "3  receiv order today gave sister remind beauti d...  \n",
       "4  ﻿max receiv heart sadli disappoint two scratch...  "
      ]
     },
     "execution_count": 14,
     "metadata": {},
     "output_type": "execute_result"
    }
   ],
   "source": [
    "combined_df.info()\n",
    "combined_df.head()"
   ]
  },
  {
   "cell_type": "markdown",
   "id": "72c23f52",
   "metadata": {},
   "source": [
    "## Split the data into train and test set"
   ]
  },
  {
   "cell_type": "code",
   "execution_count": 15,
   "id": "9c179d1a",
   "metadata": {},
   "outputs": [],
   "source": [
    "# Split the data into training and temporary data (dev + test)\n",
    "X_train, X_dev_test, y_train, y_dev_test = train_test_split(combined_df['preprocessed_text'], combined_df['label'], test_size=0.3, random_state=47)\n",
    "\n",
    "# Split the temporary data into dev and test sets\n",
    "X_dev, X_test, y_dev, y_test = train_test_split(X_dev_test, y_dev_test, test_size=0.5, random_state=47)\n"
   ]
  },
  {
   "cell_type": "markdown",
   "id": "d7c90c81",
   "metadata": {},
   "source": [
    "# Trying model with Convolution layer"
   ]
  },
  {
   "cell_type": "code",
   "execution_count": 16,
   "id": "13653e3a",
   "metadata": {},
   "outputs": [],
   "source": [
    "# Parameters for tokenizer \n",
    "vocab_size = 10000  # Size of the vocabulary\n",
    "max_length = 120    # Length of input sequences\n",
    "trunc_type='post'   # Specify the truncation type for sequences\n",
    "oov_tok = \"<OOV>\"   # Special token to represent out-of-vocabulary "
   ]
  },
  {
   "cell_type": "code",
   "execution_count": 17,
   "id": "00d2c08b",
   "metadata": {},
   "outputs": [],
   "source": [
    "tokenizer = Tokenizer(num_words = vocab_size, oov_token=oov_tok)\n",
    "\n",
    "tokenizer.fit_on_texts(X_train)\n",
    "\n",
    "# Generate train sequences\n",
    "sequences = tokenizer.texts_to_sequences(X_train)\n",
    "padded = pad_sequences(sequences,maxlen=max_length, truncating=trunc_type)\n",
    "\n",
    "# Generate test sequences\n",
    "testing_sequences = tokenizer.texts_to_sequences(X_test)\n",
    "testing_padded = pad_sequences(testing_sequences,maxlen=max_length, truncating=trunc_type)"
   ]
  },
  {
   "cell_type": "code",
   "execution_count": 18,
   "id": "6f46a364",
   "metadata": {},
   "outputs": [],
   "source": [
    "dropout_rate = 0.5  # Dropout rate\n",
    "embedding_dim = 9   # Dimension of word embeddings\n",
    "filters = 128       # Size of convolutional kernels\n",
    "kernel_size = 5     # Number of filters in the convolutional layer\n",
    "dense_dim = 16      "
   ]
  },
  {
   "cell_type": "code",
   "execution_count": 19,
   "id": "48292080",
   "metadata": {},
   "outputs": [],
   "source": [
    "# Define the callback functions FOR ALL MODELS\n",
    "model_checkpoint = ModelCheckpoint('best_model.h5', save_best_only=True, save_weights_only=True, monitor='val_loss', mode='min', verbose=1)\n",
    "early_stopping = EarlyStopping(monitor='val_loss', patience=5, restore_best_weights=True, verbose=1)\n",
    "reduce_lr = ReduceLROnPlateau(monitor='val_loss', factor=0.2, patience=3, min_lr=1e-3, verbose=1)"
   ]
  },
  {
   "cell_type": "code",
   "execution_count": 20,
   "id": "148c1a30",
   "metadata": {},
   "outputs": [],
   "source": [
    "num_epochs = 100\n",
    "batch_size = 64"
   ]
  },
  {
   "cell_type": "markdown",
   "id": "6457a19d",
   "metadata": {},
   "source": [
    "# Trying model with Convolution layer"
   ]
  },
  {
   "cell_type": "code",
   "execution_count": 21,
   "id": "215dc96e",
   "metadata": {},
   "outputs": [
    {
     "name": "stdout",
     "output_type": "stream",
     "text": [
      "Model: \"sequential\"\n",
      "_________________________________________________________________\n",
      " Layer (type)                Output Shape              Param #   \n",
      "=================================================================\n",
      " embedding (Embedding)       (None, 120, 9)            90000     \n",
      "                                                                 \n",
      " conv1d (Conv1D)             (None, 116, 128)          5888      \n",
      "                                                                 \n",
      " global_max_pooling1d (Glob  (None, 128)               0         \n",
      " alMaxPooling1D)                                                 \n",
      "                                                                 \n",
      " dropout (Dropout)           (None, 128)               0         \n",
      "                                                                 \n",
      " dense (Dense)               (None, 16)                2064      \n",
      "                                                                 \n",
      " dense_1 (Dense)             (None, 1)                 17        \n",
      "                                                                 \n",
      "=================================================================\n",
      "Total params: 97969 (382.69 KB)\n",
      "Trainable params: 97969 (382.69 KB)\n",
      "Non-trainable params: 0 (0.00 Byte)\n",
      "_________________________________________________________________\n"
     ]
    }
   ],
   "source": [
    "# Model Definition with Conv1D\n",
    "model_conv = tf.keras.Sequential([\n",
    "    tf.keras.layers.Embedding(vocab_size, embedding_dim, input_length=max_length),\n",
    "    tf.keras.layers.Conv1D(filters, kernel_size, activation='relu'),\n",
    "    tf.keras.layers.GlobalMaxPooling1D(),\n",
    "    tf.keras.layers.Dropout(dropout_rate),\n",
    "    tf.keras.layers.Dense(dense_dim, activation='relu'),\n",
    "    tf.keras.layers.Dense(1, activation='sigmoid')\n",
    "])\n",
    "\n",
    "# Compile the model\n",
    "model_conv.compile(loss='binary_crossentropy', optimizer='adam', metrics=['accuracy', Precision(), Recall(), AUC(name='roc_auc')])\n",
    "\n",
    "model_conv.summary()"
   ]
  },
  {
   "cell_type": "code",
   "execution_count": 22,
   "id": "af112654",
   "metadata": {},
   "outputs": [
    {
     "name": "stdout",
     "output_type": "stream",
     "text": [
      "Epoch 1/100\n",
      "1/3 [=========>....................] - ETA: 2s - loss: 0.6963 - accuracy: 0.3750 - precision: 0.0000e+00 - recall: 0.0000e+00 - roc_auc: 0.6159\n",
      "Epoch 1: val_loss improved from inf to 0.69136, saving model to best_model.h5\n",
      "3/3 [==============================] - 2s 228ms/step - loss: 0.6936 - accuracy: 0.4294 - precision: 0.4783 - recall: 0.1100 - roc_auc: 0.5862 - val_loss: 0.6914 - val_accuracy: 0.6410 - val_precision: 0.7500 - val_recall: 0.6923 - val_roc_auc: 0.6686 - lr: 0.0010\n",
      "Epoch 2/100\n",
      "1/3 [=========>....................] - ETA: 0s - loss: 0.6905 - accuracy: 0.5938 - precision: 0.8148 - recall: 0.5116 - roc_auc: 0.6700\n",
      "Epoch 2: val_loss improved from 0.69136 to 0.68529, saving model to best_model.h5\n",
      "3/3 [==============================] - 0s 50ms/step - loss: 0.6902 - accuracy: 0.5876 - precision: 0.6216 - recall: 0.6900 - roc_auc: 0.5802 - val_loss: 0.6853 - val_accuracy: 0.6667 - val_precision: 0.6667 - val_recall: 1.0000 - val_roc_auc: 0.6361 - lr: 0.0010\n",
      "Epoch 3/100\n",
      "1/3 [=========>....................] - ETA: 0s - loss: 0.6937 - accuracy: 0.5156 - precision: 0.5000 - recall: 0.9677 - roc_auc: 0.5186\n",
      "Epoch 3: val_loss improved from 0.68529 to 0.68233, saving model to best_model.h5\n",
      "3/3 [==============================] - 0s 42ms/step - loss: 0.6884 - accuracy: 0.5819 - precision: 0.5765 - recall: 0.9800 - roc_auc: 0.6179 - val_loss: 0.6823 - val_accuracy: 0.6667 - val_precision: 0.6667 - val_recall: 1.0000 - val_roc_auc: 0.6272 - lr: 0.0010\n",
      "Epoch 4/100\n",
      "1/3 [=========>....................] - ETA: 0s - loss: 0.6905 - accuracy: 0.4844 - precision: 0.4590 - recall: 1.0000 - roc_auc: 0.7346\n",
      "Epoch 4: val_loss improved from 0.68233 to 0.67983, saving model to best_model.h5\n",
      "3/3 [==============================] - 0s 46ms/step - loss: 0.6840 - accuracy: 0.5932 - precision: 0.5814 - recall: 1.0000 - roc_auc: 0.7477 - val_loss: 0.6798 - val_accuracy: 0.6667 - val_precision: 0.6667 - val_recall: 1.0000 - val_roc_auc: 0.7707 - lr: 0.0010\n",
      "Epoch 5/100\n",
      "1/3 [=========>....................] - ETA: 0s - loss: 0.6810 - accuracy: 0.5938 - precision: 0.5806 - recall: 1.0000 - roc_auc: 0.8304\n",
      "Epoch 5: val_loss improved from 0.67983 to 0.67679, saving model to best_model.h5\n",
      "3/3 [==============================] - 0s 42ms/step - loss: 0.6819 - accuracy: 0.5876 - precision: 0.5780 - recall: 1.0000 - roc_auc: 0.7814 - val_loss: 0.6768 - val_accuracy: 0.6667 - val_precision: 0.6667 - val_recall: 1.0000 - val_roc_auc: 0.7840 - lr: 0.0010\n",
      "Epoch 6/100\n",
      "1/3 [=========>....................] - ETA: 0s - loss: 0.6813 - accuracy: 0.5469 - precision: 0.5469 - recall: 1.0000 - roc_auc: 0.8118\n",
      "Epoch 6: val_loss improved from 0.67679 to 0.67450, saving model to best_model.h5\n",
      "3/3 [==============================] - 0s 45ms/step - loss: 0.6795 - accuracy: 0.5819 - precision: 0.5747 - recall: 1.0000 - roc_auc: 0.8001 - val_loss: 0.6745 - val_accuracy: 0.6667 - val_precision: 0.6667 - val_recall: 1.0000 - val_roc_auc: 0.8210 - lr: 0.0010\n",
      "Epoch 7/100\n",
      "1/3 [=========>....................] - ETA: 0s - loss: 0.6851 - accuracy: 0.5312 - precision: 0.5312 - recall: 1.0000 - roc_auc: 0.7662\n",
      "Epoch 7: val_loss improved from 0.67450 to 0.67233, saving model to best_model.h5\n",
      "3/3 [==============================] - 0s 46ms/step - loss: 0.6782 - accuracy: 0.5763 - precision: 0.5714 - recall: 1.0000 - roc_auc: 0.8099 - val_loss: 0.6723 - val_accuracy: 0.6667 - val_precision: 0.6667 - val_recall: 1.0000 - val_roc_auc: 0.8698 - lr: 0.0010\n",
      "Epoch 8/100\n",
      "1/3 [=========>....................] - ETA: 0s - loss: 0.6703 - accuracy: 0.6094 - precision: 0.5902 - recall: 1.0000 - roc_auc: 0.9033\n",
      "Epoch 8: val_loss improved from 0.67233 to 0.66926, saving model to best_model.h5\n",
      "3/3 [==============================] - 0s 45ms/step - loss: 0.6709 - accuracy: 0.6045 - precision: 0.5882 - recall: 1.0000 - roc_auc: 0.9191 - val_loss: 0.6693 - val_accuracy: 0.6667 - val_precision: 0.6667 - val_recall: 1.0000 - val_roc_auc: 0.8831 - lr: 0.0010\n",
      "Epoch 9/100\n",
      "1/3 [=========>....................] - ETA: 0s - loss: 0.6784 - accuracy: 0.5312 - precision: 0.5238 - recall: 1.0000 - roc_auc: 0.8851\n",
      "Epoch 9: val_loss improved from 0.66926 to 0.66667, saving model to best_model.h5\n",
      "3/3 [==============================] - 0s 49ms/step - loss: 0.6700 - accuracy: 0.6158 - precision: 0.5952 - recall: 1.0000 - roc_auc: 0.8911 - val_loss: 0.6667 - val_accuracy: 0.6667 - val_precision: 0.6667 - val_recall: 1.0000 - val_roc_auc: 0.9556 - lr: 0.0010\n",
      "Epoch 10/100\n",
      "1/3 [=========>....................] - ETA: 0s - loss: 0.6644 - accuracy: 0.6250 - precision: 0.6000 - recall: 1.0000 - roc_auc: 0.9137\n",
      "Epoch 10: val_loss improved from 0.66667 to 0.66388, saving model to best_model.h5\n",
      "3/3 [==============================] - 0s 45ms/step - loss: 0.6623 - accuracy: 0.6441 - precision: 0.6135 - recall: 1.0000 - roc_auc: 0.9329 - val_loss: 0.6639 - val_accuracy: 0.6667 - val_precision: 0.6667 - val_recall: 1.0000 - val_roc_auc: 0.9527 - lr: 0.0010\n",
      "Epoch 11/100\n",
      "1/3 [=========>....................] - ETA: 0s - loss: 0.6640 - accuracy: 0.6406 - precision: 0.5965 - recall: 1.0000 - roc_auc: 0.9299\n",
      "Epoch 11: val_loss improved from 0.66388 to 0.66079, saving model to best_model.h5\n",
      "3/3 [==============================] - 0s 50ms/step - loss: 0.6597 - accuracy: 0.6554 - precision: 0.6211 - recall: 1.0000 - roc_auc: 0.9503 - val_loss: 0.6608 - val_accuracy: 0.6667 - val_precision: 0.6667 - val_recall: 1.0000 - val_roc_auc: 0.9778 - lr: 0.0010\n",
      "Epoch 12/100\n",
      "1/3 [=========>....................] - ETA: 0s - loss: 0.6505 - accuracy: 0.7344 - precision: 0.6731 - recall: 1.0000 - roc_auc: 0.9857\n",
      "Epoch 12: val_loss improved from 0.66079 to 0.65546, saving model to best_model.h5\n",
      "3/3 [==============================] - 0s 51ms/step - loss: 0.6490 - accuracy: 0.7401 - precision: 0.6849 - recall: 1.0000 - roc_auc: 0.9832 - val_loss: 0.6555 - val_accuracy: 0.7179 - val_precision: 0.7027 - val_recall: 1.0000 - val_roc_auc: 0.9852 - lr: 0.0010\n",
      "Epoch 13/100\n",
      "1/3 [=========>....................] - ETA: 0s - loss: 0.6403 - accuracy: 0.7656 - precision: 0.7115 - recall: 1.0000 - roc_auc: 0.9895\n",
      "Epoch 13: val_loss improved from 0.65546 to 0.64911, saving model to best_model.h5\n",
      "3/3 [==============================] - 0s 49ms/step - loss: 0.6406 - accuracy: 0.7740 - precision: 0.7143 - recall: 1.0000 - roc_auc: 0.9905 - val_loss: 0.6491 - val_accuracy: 0.7179 - val_precision: 0.7027 - val_recall: 1.0000 - val_roc_auc: 0.9911 - lr: 0.0010\n",
      "Epoch 14/100\n",
      "1/3 [=========>....................] - ETA: 0s - loss: 0.6389 - accuracy: 0.7969 - precision: 0.6977 - recall: 1.0000 - roc_auc: 0.9995\n",
      "Epoch 14: val_loss improved from 0.64911 to 0.64236, saving model to best_model.h5\n",
      "3/3 [==============================] - 0s 44ms/step - loss: 0.6294 - accuracy: 0.8701 - precision: 0.8130 - recall: 1.0000 - roc_auc: 0.9984 - val_loss: 0.6424 - val_accuracy: 0.7436 - val_precision: 0.7222 - val_recall: 1.0000 - val_roc_auc: 0.9941 - lr: 0.0010\n",
      "Epoch 15/100\n",
      "1/3 [=========>....................] - ETA: 0s - loss: 0.6081 - accuracy: 0.9688 - precision: 0.9487 - recall: 1.0000 - roc_auc: 1.0000\n",
      "Epoch 15: val_loss improved from 0.64236 to 0.63209, saving model to best_model.h5\n",
      "3/3 [==============================] - 0s 54ms/step - loss: 0.6133 - accuracy: 0.9209 - precision: 0.8839 - recall: 0.9900 - roc_auc: 0.9962 - val_loss: 0.6321 - val_accuracy: 0.8205 - val_precision: 0.7879 - val_recall: 1.0000 - val_roc_auc: 0.9956 - lr: 0.0010\n",
      "Epoch 16/100\n",
      "1/3 [=========>....................] - ETA: 0s - loss: 0.6123 - accuracy: 0.9375 - precision: 0.8788 - recall: 1.0000 - roc_auc: 0.9966\n",
      "Epoch 16: val_loss improved from 0.63209 to 0.61934, saving model to best_model.h5\n",
      "3/3 [==============================] - 0s 50ms/step - loss: 0.5977 - accuracy: 0.9718 - precision: 0.9524 - recall: 1.0000 - roc_auc: 0.9989 - val_loss: 0.6193 - val_accuracy: 0.9744 - val_precision: 0.9630 - val_recall: 1.0000 - val_roc_auc: 0.9956 - lr: 0.0010\n",
      "Epoch 17/100\n",
      "1/3 [=========>....................] - ETA: 0s - loss: 0.5831 - accuracy: 0.9531 - precision: 0.9524 - recall: 0.9756 - roc_auc: 0.9952\n",
      "Epoch 17: val_loss improved from 0.61934 to 0.60172, saving model to best_model.h5\n",
      "3/3 [==============================] - 0s 40ms/step - loss: 0.5780 - accuracy: 0.9605 - precision: 0.9429 - recall: 0.9900 - roc_auc: 0.9959 - val_loss: 0.6017 - val_accuracy: 0.9744 - val_precision: 0.9630 - val_recall: 1.0000 - val_roc_auc: 0.9970 - lr: 0.0010\n",
      "Epoch 18/100\n",
      "1/3 [=========>....................] - ETA: 0s - loss: 0.5515 - accuracy: 1.0000 - precision: 1.0000 - recall: 1.0000 - roc_auc: 1.0000\n",
      "Epoch 18: val_loss improved from 0.60172 to 0.58272, saving model to best_model.h5\n",
      "3/3 [==============================] - 0s 44ms/step - loss: 0.5504 - accuracy: 0.9887 - precision: 0.9804 - recall: 1.0000 - roc_auc: 1.0000 - val_loss: 0.5827 - val_accuracy: 0.9744 - val_precision: 0.9630 - val_recall: 1.0000 - val_roc_auc: 0.9970 - lr: 0.0010\n",
      "Epoch 19/100\n",
      "1/3 [=========>....................] - ETA: 0s - loss: 0.5239 - accuracy: 1.0000 - precision: 1.0000 - recall: 1.0000 - roc_auc: 1.0000\n",
      "Epoch 19: val_loss improved from 0.58272 to 0.56030, saving model to best_model.h5\n",
      "3/3 [==============================] - 0s 42ms/step - loss: 0.5159 - accuracy: 1.0000 - precision: 1.0000 - recall: 1.0000 - roc_auc: 1.0000 - val_loss: 0.5603 - val_accuracy: 0.9744 - val_precision: 0.9630 - val_recall: 1.0000 - val_roc_auc: 0.9970 - lr: 0.0010\n",
      "Epoch 20/100\n",
      "1/3 [=========>....................] - ETA: 0s - loss: 0.4817 - accuracy: 1.0000 - precision: 1.0000 - recall: 1.0000 - roc_auc: 1.0000\n",
      "Epoch 20: val_loss improved from 0.56030 to 0.53305, saving model to best_model.h5\n",
      "3/3 [==============================] - 0s 46ms/step - loss: 0.4797 - accuracy: 1.0000 - precision: 1.0000 - recall: 1.0000 - roc_auc: 1.0000 - val_loss: 0.5331 - val_accuracy: 0.9487 - val_precision: 0.9615 - val_recall: 0.9615 - val_roc_auc: 0.9970 - lr: 0.0010\n",
      "Epoch 21/100\n",
      "1/3 [=========>....................] - ETA: 0s - loss: 0.4465 - accuracy: 1.0000 - precision: 1.0000 - recall: 1.0000 - roc_auc: 1.0000\n",
      "Epoch 21: val_loss improved from 0.53305 to 0.50085, saving model to best_model.h5\n",
      "3/3 [==============================] - 0s 40ms/step - loss: 0.4463 - accuracy: 0.9887 - precision: 1.0000 - recall: 0.9800 - roc_auc: 0.9999 - val_loss: 0.5009 - val_accuracy: 0.9487 - val_precision: 0.9615 - val_recall: 0.9615 - val_roc_auc: 0.9985 - lr: 0.0010\n",
      "Epoch 22/100\n",
      "1/3 [=========>....................] - ETA: 0s - loss: 0.4197 - accuracy: 0.9844 - precision: 1.0000 - recall: 0.9737 - roc_auc: 1.0000\n",
      "Epoch 22: val_loss improved from 0.50085 to 0.46275, saving model to best_model.h5\n",
      "3/3 [==============================] - 0s 41ms/step - loss: 0.4005 - accuracy: 0.9944 - precision: 1.0000 - recall: 0.9900 - roc_auc: 1.0000 - val_loss: 0.4628 - val_accuracy: 0.9744 - val_precision: 0.9630 - val_recall: 1.0000 - val_roc_auc: 1.0000 - lr: 0.0010\n",
      "Epoch 23/100\n",
      "1/3 [=========>....................] - ETA: 0s - loss: 0.3687 - accuracy: 1.0000 - precision: 1.0000 - recall: 1.0000 - roc_auc: 1.0000\n",
      "Epoch 23: val_loss improved from 0.46275 to 0.42160, saving model to best_model.h5\n",
      "3/3 [==============================] - 0s 40ms/step - loss: 0.3572 - accuracy: 0.9944 - precision: 1.0000 - recall: 0.9900 - roc_auc: 1.0000 - val_loss: 0.4216 - val_accuracy: 0.9744 - val_precision: 0.9630 - val_recall: 1.0000 - val_roc_auc: 1.0000 - lr: 0.0010\n",
      "Epoch 24/100\n",
      "1/3 [=========>....................] - ETA: 0s - loss: 0.3301 - accuracy: 1.0000 - precision: 1.0000 - recall: 1.0000 - roc_auc: 1.0000\n",
      "Epoch 24: val_loss improved from 0.42160 to 0.37926, saving model to best_model.h5\n",
      "3/3 [==============================] - 0s 49ms/step - loss: 0.3171 - accuracy: 1.0000 - precision: 1.0000 - recall: 1.0000 - roc_auc: 1.0000 - val_loss: 0.3793 - val_accuracy: 0.9744 - val_precision: 0.9630 - val_recall: 1.0000 - val_roc_auc: 1.0000 - lr: 0.0010\n",
      "Epoch 25/100\n",
      "1/3 [=========>....................] - ETA: 0s - loss: 0.2718 - accuracy: 1.0000 - precision: 1.0000 - recall: 1.0000 - roc_auc: 1.0000\n",
      "Epoch 25: val_loss improved from 0.37926 to 0.33730, saving model to best_model.h5\n",
      "3/3 [==============================] - 0s 47ms/step - loss: 0.2692 - accuracy: 1.0000 - precision: 1.0000 - recall: 1.0000 - roc_auc: 1.0000 - val_loss: 0.3373 - val_accuracy: 0.9744 - val_precision: 0.9630 - val_recall: 1.0000 - val_roc_auc: 1.0000 - lr: 0.0010\n",
      "Epoch 26/100\n",
      "1/3 [=========>....................] - ETA: 0s - loss: 0.2363 - accuracy: 1.0000 - precision: 1.0000 - recall: 1.0000 - roc_auc: 1.0000\n",
      "Epoch 26: val_loss improved from 0.33730 to 0.29754, saving model to best_model.h5\n",
      "3/3 [==============================] - 0s 43ms/step - loss: 0.2208 - accuracy: 1.0000 - precision: 1.0000 - recall: 1.0000 - roc_auc: 1.0000 - val_loss: 0.2975 - val_accuracy: 0.9744 - val_precision: 0.9630 - val_recall: 1.0000 - val_roc_auc: 1.0000 - lr: 0.0010\n",
      "Epoch 27/100\n",
      "1/3 [=========>....................] - ETA: 0s - loss: 0.1973 - accuracy: 1.0000 - precision: 1.0000 - recall: 1.0000 - roc_auc: 1.0000\n",
      "Epoch 27: val_loss improved from 0.29754 to 0.26073, saving model to best_model.h5\n",
      "3/3 [==============================] - 0s 41ms/step - loss: 0.1749 - accuracy: 1.0000 - precision: 1.0000 - recall: 1.0000 - roc_auc: 1.0000 - val_loss: 0.2607 - val_accuracy: 0.9744 - val_precision: 0.9630 - val_recall: 1.0000 - val_roc_auc: 1.0000 - lr: 0.0010\n",
      "Epoch 28/100\n",
      "1/3 [=========>....................] - ETA: 0s - loss: 0.1616 - accuracy: 1.0000 - precision: 1.0000 - recall: 1.0000 - roc_auc: 1.0000\n",
      "Epoch 28: val_loss improved from 0.26073 to 0.22632, saving model to best_model.h5\n",
      "3/3 [==============================] - 0s 41ms/step - loss: 0.1385 - accuracy: 1.0000 - precision: 1.0000 - recall: 1.0000 - roc_auc: 1.0000 - val_loss: 0.2263 - val_accuracy: 0.9744 - val_precision: 0.9630 - val_recall: 1.0000 - val_roc_auc: 0.9970 - lr: 0.0010\n",
      "Epoch 29/100\n",
      "1/3 [=========>....................] - ETA: 0s - loss: 0.1307 - accuracy: 1.0000 - precision: 1.0000 - recall: 1.0000 - roc_auc: 1.0000\n",
      "Epoch 29: val_loss improved from 0.22632 to 0.19627, saving model to best_model.h5\n",
      "3/3 [==============================] - 0s 45ms/step - loss: 0.1155 - accuracy: 1.0000 - precision: 1.0000 - recall: 1.0000 - roc_auc: 1.0000 - val_loss: 0.1963 - val_accuracy: 0.9744 - val_precision: 0.9630 - val_recall: 1.0000 - val_roc_auc: 0.9970 - lr: 0.0010\n",
      "Epoch 30/100\n",
      "1/3 [=========>....................] - ETA: 0s - loss: 0.1003 - accuracy: 1.0000 - precision: 1.0000 - recall: 1.0000 - roc_auc: 1.0000\n",
      "Epoch 30: val_loss improved from 0.19627 to 0.17199, saving model to best_model.h5\n",
      "3/3 [==============================] - 0s 41ms/step - loss: 0.0882 - accuracy: 1.0000 - precision: 1.0000 - recall: 1.0000 - roc_auc: 1.0000 - val_loss: 0.1720 - val_accuracy: 0.9744 - val_precision: 0.9630 - val_recall: 1.0000 - val_roc_auc: 0.9970 - lr: 0.0010\n",
      "Epoch 31/100\n",
      "1/3 [=========>....................] - ETA: 0s - loss: 0.0877 - accuracy: 1.0000 - precision: 1.0000 - recall: 1.0000 - roc_auc: 1.0000\n",
      "Epoch 31: val_loss improved from 0.17199 to 0.15275, saving model to best_model.h5\n",
      "3/3 [==============================] - 0s 39ms/step - loss: 0.0743 - accuracy: 1.0000 - precision: 1.0000 - recall: 1.0000 - roc_auc: 1.0000 - val_loss: 0.1528 - val_accuracy: 0.9487 - val_precision: 0.9615 - val_recall: 0.9615 - val_roc_auc: 0.9970 - lr: 0.0010\n",
      "Epoch 32/100\n",
      "1/3 [=========>....................] - ETA: 0s - loss: 0.0633 - accuracy: 1.0000 - precision: 1.0000 - recall: 1.0000 - roc_auc: 1.0000\n",
      "Epoch 32: val_loss improved from 0.15275 to 0.13771, saving model to best_model.h5\n",
      "3/3 [==============================] - 0s 41ms/step - loss: 0.0583 - accuracy: 1.0000 - precision: 1.0000 - recall: 1.0000 - roc_auc: 1.0000 - val_loss: 0.1377 - val_accuracy: 0.9487 - val_precision: 0.9615 - val_recall: 0.9615 - val_roc_auc: 0.9970 - lr: 0.0010\n",
      "Epoch 33/100\n",
      "1/3 [=========>....................] - ETA: 0s - loss: 0.0450 - accuracy: 1.0000 - precision: 1.0000 - recall: 1.0000 - roc_auc: 1.0000\n",
      "Epoch 33: val_loss improved from 0.13771 to 0.12655, saving model to best_model.h5\n",
      "3/3 [==============================] - 0s 45ms/step - loss: 0.0452 - accuracy: 1.0000 - precision: 1.0000 - recall: 1.0000 - roc_auc: 1.0000 - val_loss: 0.1265 - val_accuracy: 0.9487 - val_precision: 0.9615 - val_recall: 0.9615 - val_roc_auc: 0.9970 - lr: 0.0010\n",
      "Epoch 34/100\n",
      "1/3 [=========>....................] - ETA: 0s - loss: 0.0438 - accuracy: 1.0000 - precision: 1.0000 - recall: 1.0000 - roc_auc: 1.0000\n",
      "Epoch 34: val_loss improved from 0.12655 to 0.11829, saving model to best_model.h5\n",
      "3/3 [==============================] - 0s 56ms/step - loss: 0.0339 - accuracy: 1.0000 - precision: 1.0000 - recall: 1.0000 - roc_auc: 1.0000 - val_loss: 0.1183 - val_accuracy: 0.9487 - val_precision: 0.9615 - val_recall: 0.9615 - val_roc_auc: 0.9970 - lr: 0.0010\n",
      "Epoch 35/100\n",
      "1/3 [=========>....................] - ETA: 0s - loss: 0.0254 - accuracy: 1.0000 - precision: 1.0000 - recall: 1.0000 - roc_auc: 1.0000\n",
      "Epoch 35: val_loss improved from 0.11829 to 0.11270, saving model to best_model.h5\n",
      "3/3 [==============================] - 0s 42ms/step - loss: 0.0249 - accuracy: 1.0000 - precision: 1.0000 - recall: 1.0000 - roc_auc: 1.0000 - val_loss: 0.1127 - val_accuracy: 0.9487 - val_precision: 0.9615 - val_recall: 0.9615 - val_roc_auc: 0.9970 - lr: 0.0010\n",
      "Epoch 36/100\n",
      "1/3 [=========>....................] - ETA: 0s - loss: 0.0256 - accuracy: 1.0000 - precision: 1.0000 - recall: 1.0000 - roc_auc: 1.0000\n",
      "Epoch 36: val_loss improved from 0.11270 to 0.10889, saving model to best_model.h5\n",
      "3/3 [==============================] - 0s 42ms/step - loss: 0.0239 - accuracy: 1.0000 - precision: 1.0000 - recall: 1.0000 - roc_auc: 1.0000 - val_loss: 0.1089 - val_accuracy: 0.9487 - val_precision: 0.9615 - val_recall: 0.9615 - val_roc_auc: 0.9970 - lr: 0.0010\n",
      "Epoch 37/100\n",
      "1/3 [=========>....................] - ETA: 0s - loss: 0.0194 - accuracy: 1.0000 - precision: 1.0000 - recall: 1.0000 - roc_auc: 1.0000\n",
      "Epoch 37: val_loss improved from 0.10889 to 0.10617, saving model to best_model.h5\n",
      "3/3 [==============================] - 0s 41ms/step - loss: 0.0185 - accuracy: 1.0000 - precision: 1.0000 - recall: 1.0000 - roc_auc: 1.0000 - val_loss: 0.1062 - val_accuracy: 0.9487 - val_precision: 0.9615 - val_recall: 0.9615 - val_roc_auc: 0.9970 - lr: 0.0010\n",
      "Epoch 38/100\n",
      "1/3 [=========>....................] - ETA: 0s - loss: 0.0155 - accuracy: 1.0000 - precision: 1.0000 - recall: 1.0000 - roc_auc: 1.0000\n",
      "Epoch 38: val_loss improved from 0.10617 to 0.10434, saving model to best_model.h5\n",
      "3/3 [==============================] - 0s 42ms/step - loss: 0.0153 - accuracy: 1.0000 - precision: 1.0000 - recall: 1.0000 - roc_auc: 1.0000 - val_loss: 0.1043 - val_accuracy: 0.9487 - val_precision: 0.9615 - val_recall: 0.9615 - val_roc_auc: 0.9970 - lr: 0.0010\n",
      "Epoch 39/100\n",
      "1/3 [=========>....................] - ETA: 0s - loss: 0.0120 - accuracy: 1.0000 - precision: 1.0000 - recall: 1.0000 - roc_auc: 1.0000\n",
      "Epoch 39: val_loss improved from 0.10434 to 0.10334, saving model to best_model.h5\n",
      "3/3 [==============================] - 0s 45ms/step - loss: 0.0121 - accuracy: 1.0000 - precision: 1.0000 - recall: 1.0000 - roc_auc: 1.0000 - val_loss: 0.1033 - val_accuracy: 0.9487 - val_precision: 0.9615 - val_recall: 0.9615 - val_roc_auc: 0.9970 - lr: 0.0010\n",
      "Epoch 40/100\n",
      "1/3 [=========>....................] - ETA: 0s - loss: 0.0138 - accuracy: 1.0000 - precision: 1.0000 - recall: 1.0000 - roc_auc: 1.0000\n",
      "Epoch 40: val_loss improved from 0.10334 to 0.10298, saving model to best_model.h5\n",
      "3/3 [==============================] - 0s 39ms/step - loss: 0.0120 - accuracy: 1.0000 - precision: 1.0000 - recall: 1.0000 - roc_auc: 1.0000 - val_loss: 0.1030 - val_accuracy: 0.9487 - val_precision: 0.9615 - val_recall: 0.9615 - val_roc_auc: 0.9970 - lr: 0.0010\n",
      "Epoch 41/100\n",
      "1/3 [=========>....................] - ETA: 0s - loss: 0.0117 - accuracy: 1.0000 - precision: 1.0000 - recall: 1.0000 - roc_auc: 1.0000\n",
      "Epoch 41: val_loss did not improve from 0.10298\n",
      "3/3 [==============================] - 0s 35ms/step - loss: 0.0109 - accuracy: 1.0000 - precision: 1.0000 - recall: 1.0000 - roc_auc: 1.0000 - val_loss: 0.1030 - val_accuracy: 0.9487 - val_precision: 0.9615 - val_recall: 0.9615 - val_roc_auc: 0.9970 - lr: 0.0010\n",
      "Epoch 42/100\n",
      "1/3 [=========>....................] - ETA: 0s - loss: 0.0122 - accuracy: 1.0000 - precision: 1.0000 - recall: 1.0000 - roc_auc: 1.0000\n",
      "Epoch 42: val_loss did not improve from 0.10298\n",
      "3/3 [==============================] - 0s 35ms/step - loss: 0.0114 - accuracy: 1.0000 - precision: 1.0000 - recall: 1.0000 - roc_auc: 1.0000 - val_loss: 0.1034 - val_accuracy: 0.9487 - val_precision: 0.9615 - val_recall: 0.9615 - val_roc_auc: 0.9970 - lr: 0.0010\n",
      "Epoch 43/100\n",
      "1/3 [=========>....................] - ETA: 0s - loss: 0.0082 - accuracy: 1.0000 - precision: 1.0000 - recall: 1.0000 - roc_auc: 1.0000\n",
      "Epoch 43: val_loss did not improve from 0.10298\n",
      "3/3 [==============================] - 0s 34ms/step - loss: 0.0086 - accuracy: 1.0000 - precision: 1.0000 - recall: 1.0000 - roc_auc: 1.0000 - val_loss: 0.1036 - val_accuracy: 0.9487 - val_precision: 0.9615 - val_recall: 0.9615 - val_roc_auc: 0.9970 - lr: 0.0010\n",
      "Epoch 44/100\n",
      "1/3 [=========>....................] - ETA: 0s - loss: 0.0083 - accuracy: 1.0000 - precision: 1.0000 - recall: 1.0000 - roc_auc: 1.0000\n",
      "Epoch 44: val_loss did not improve from 0.10298\n",
      "3/3 [==============================] - 0s 43ms/step - loss: 0.0085 - accuracy: 1.0000 - precision: 1.0000 - recall: 1.0000 - roc_auc: 1.0000 - val_loss: 0.1038 - val_accuracy: 0.9487 - val_precision: 0.9615 - val_recall: 0.9615 - val_roc_auc: 0.9970 - lr: 0.0010\n",
      "Epoch 45/100\n",
      "1/3 [=========>....................] - ETA: 0s - loss: 0.0085 - accuracy: 1.0000 - precision: 1.0000 - recall: 1.0000 - roc_auc: 1.0000\n",
      "Epoch 45: val_loss did not improve from 0.10298\n",
      "Restoring model weights from the end of the best epoch: 40.\n",
      "3/3 [==============================] - 0s 41ms/step - loss: 0.0087 - accuracy: 1.0000 - precision: 1.0000 - recall: 1.0000 - roc_auc: 1.0000 - val_loss: 0.1036 - val_accuracy: 0.9487 - val_precision: 0.9615 - val_recall: 0.9615 - val_roc_auc: 0.9970 - lr: 0.0010\n",
      "Epoch 45: early stopping\n"
     ]
    }
   ],
   "source": [
    "# Train the model with the callback functions\n",
    "history_conv = model_conv.fit(padded, y_train, epochs=num_epochs, batch_size = batch_size, validation_data=(testing_padded, y_test),\n",
    "                              callbacks=[model_checkpoint, early_stopping, reduce_lr])"
   ]
  },
  {
   "cell_type": "markdown",
   "id": "6eb75997",
   "metadata": {},
   "source": [
    "# Trying Bidirectional LSTM"
   ]
  },
  {
   "cell_type": "code",
   "execution_count": null,
   "id": "ff044ebb",
   "metadata": {},
   "outputs": [],
   "source": [
    "# Parameters\n",
    "lstm_dim = 32\n",
    "lstm2_dim = 16"
   ]
  },
  {
   "cell_type": "code",
   "execution_count": 23,
   "id": "eeb103ab",
   "metadata": {},
   "outputs": [
    {
     "name": "stdout",
     "output_type": "stream",
     "text": [
      "Model: \"sequential_1\"\n",
      "_________________________________________________________________\n",
      " Layer (type)                Output Shape              Param #   \n",
      "=================================================================\n",
      " embedding_1 (Embedding)     (None, 120, 9)            90000     \n",
      "                                                                 \n",
      " bidirectional (Bidirection  (None, 120, 64)           10752     \n",
      " al)                                                             \n",
      "                                                                 \n",
      " bidirectional_1 (Bidirecti  (None, 32)                10368     \n",
      " onal)                                                           \n",
      "                                                                 \n",
      " dropout_1 (Dropout)         (None, 32)                0         \n",
      "                                                                 \n",
      " dense_2 (Dense)             (None, 16)                528       \n",
      "                                                                 \n",
      " dense_3 (Dense)             (None, 1)                 17        \n",
      "                                                                 \n",
      "=================================================================\n",
      "Total params: 111665 (436.19 KB)\n",
      "Trainable params: 111665 (436.19 KB)\n",
      "Non-trainable params: 0 (0.00 Byte)\n",
      "_________________________________________________________________\n"
     ]
    }
   ],
   "source": [
    "\n",
    "# Model with LSTM\n",
    "model_lstm = tf.keras.Sequential([\n",
    "    tf.keras.layers.Embedding(vocab_size, embedding_dim, input_length=max_length),\n",
    "    tf.keras.layers.Bidirectional(tf.keras.layers.LSTM(lstm_dim, return_sequences=True)),\n",
    "    tf.keras.layers.Bidirectional(tf.keras.layers.LSTM(lstm2_dim)),\n",
    "    tf.keras.layers.Dropout(dropout_rate),\n",
    "    tf.keras.layers.Dense(dense_dim, activation='relu'),\n",
    "    tf.keras.layers.Dense(1, activation='sigmoid')\n",
    "])\n",
    "\n",
    "# Compile the model\n",
    "model_lstm.compile(loss='binary_crossentropy', optimizer='adam', metrics=['accuracy', Precision(name='precision'), Recall(name='recall'), AUC(name='roc_auc')])\n",
    "\n",
    "# Print the model summary\n",
    "model_lstm.summary()"
   ]
  },
  {
   "cell_type": "code",
   "execution_count": 24,
   "id": "9ee83213",
   "metadata": {},
   "outputs": [
    {
     "name": "stdout",
     "output_type": "stream",
     "text": [
      "Epoch 1/100\n",
      "3/3 [==============================] - ETA: 0s - loss: 0.6935 - accuracy: 0.4520 - precision: 0.5135 - recall: 0.5700 - roc_auc: 0.4473\n",
      "Epoch 1: val_loss did not improve from 0.10298\n",
      "3/3 [==============================] - 10s 920ms/step - loss: 0.6935 - accuracy: 0.4520 - precision: 0.5135 - recall: 0.5700 - roc_auc: 0.4473 - val_loss: 0.6896 - val_accuracy: 0.6667 - val_precision: 0.6667 - val_recall: 1.0000 - val_roc_auc: 0.5000 - lr: 0.0010\n",
      "Epoch 2/100\n",
      "3/3 [==============================] - ETA: 0s - loss: 0.6914 - accuracy: 0.5706 - precision: 0.5682 - recall: 1.0000 - roc_auc: 0.5049\n",
      "Epoch 2: val_loss did not improve from 0.10298\n",
      "3/3 [==============================] - 0s 122ms/step - loss: 0.6914 - accuracy: 0.5706 - precision: 0.5682 - recall: 1.0000 - roc_auc: 0.5049 - val_loss: 0.6836 - val_accuracy: 0.6667 - val_precision: 0.6667 - val_recall: 1.0000 - val_roc_auc: 0.5385 - lr: 0.0010\n",
      "Epoch 3/100\n",
      "3/3 [==============================] - ETA: 0s - loss: 0.6881 - accuracy: 0.5706 - precision: 0.5682 - recall: 1.0000 - roc_auc: 0.5423\n",
      "Epoch 3: val_loss did not improve from 0.10298\n",
      "3/3 [==============================] - 0s 122ms/step - loss: 0.6881 - accuracy: 0.5706 - precision: 0.5682 - recall: 1.0000 - roc_auc: 0.5423 - val_loss: 0.6775 - val_accuracy: 0.6667 - val_precision: 0.6667 - val_recall: 1.0000 - val_roc_auc: 0.5385 - lr: 0.0010\n",
      "Epoch 4/100\n",
      "3/3 [==============================] - ETA: 0s - loss: 0.6901 - accuracy: 0.5650 - precision: 0.5650 - recall: 1.0000 - roc_auc: 0.4197\n",
      "Epoch 4: val_loss did not improve from 0.10298\n",
      "3/3 [==============================] - 0s 126ms/step - loss: 0.6901 - accuracy: 0.5650 - precision: 0.5650 - recall: 1.0000 - roc_auc: 0.4197 - val_loss: 0.6726 - val_accuracy: 0.6667 - val_precision: 0.6667 - val_recall: 1.0000 - val_roc_auc: 0.6006 - lr: 0.0010\n",
      "Epoch 5/100\n",
      "3/3 [==============================] - ETA: 0s - loss: 0.6872 - accuracy: 0.5650 - precision: 0.5650 - recall: 1.0000 - roc_auc: 0.4883\n",
      "Epoch 5: val_loss did not improve from 0.10298\n",
      "3/3 [==============================] - 0s 125ms/step - loss: 0.6872 - accuracy: 0.5650 - precision: 0.5650 - recall: 1.0000 - roc_auc: 0.4883 - val_loss: 0.6679 - val_accuracy: 0.6667 - val_precision: 0.6667 - val_recall: 1.0000 - val_roc_auc: 0.6095 - lr: 0.0010\n",
      "Epoch 6/100\n",
      "3/3 [==============================] - ETA: 0s - loss: 0.6859 - accuracy: 0.5650 - precision: 0.5650 - recall: 1.0000 - roc_auc: 0.5074\n",
      "Epoch 6: val_loss did not improve from 0.10298\n",
      "3/3 [==============================] - 0s 127ms/step - loss: 0.6859 - accuracy: 0.5650 - precision: 0.5650 - recall: 1.0000 - roc_auc: 0.5074 - val_loss: 0.6638 - val_accuracy: 0.6667 - val_precision: 0.6667 - val_recall: 1.0000 - val_roc_auc: 0.5769 - lr: 0.0010\n",
      "Epoch 7/100\n",
      "3/3 [==============================] - ETA: 0s - loss: 0.6844 - accuracy: 0.5650 - precision: 0.5650 - recall: 1.0000 - roc_auc: 0.5302\n",
      "Epoch 7: val_loss did not improve from 0.10298\n",
      "3/3 [==============================] - 0s 122ms/step - loss: 0.6844 - accuracy: 0.5650 - precision: 0.5650 - recall: 1.0000 - roc_auc: 0.5302 - val_loss: 0.6598 - val_accuracy: 0.6667 - val_precision: 0.6667 - val_recall: 1.0000 - val_roc_auc: 0.7101 - lr: 0.0010\n",
      "Epoch 8/100\n",
      "3/3 [==============================] - ETA: 0s - loss: 0.6824 - accuracy: 0.5650 - precision: 0.5650 - recall: 1.0000 - roc_auc: 0.5419\n",
      "Epoch 8: val_loss did not improve from 0.10298\n",
      "3/3 [==============================] - 0s 133ms/step - loss: 0.6824 - accuracy: 0.5650 - precision: 0.5650 - recall: 1.0000 - roc_auc: 0.5419 - val_loss: 0.6564 - val_accuracy: 0.6667 - val_precision: 0.6667 - val_recall: 1.0000 - val_roc_auc: 0.7101 - lr: 0.0010\n",
      "Epoch 9/100\n",
      "3/3 [==============================] - ETA: 0s - loss: 0.6794 - accuracy: 0.5650 - precision: 0.5650 - recall: 1.0000 - roc_auc: 0.6130\n",
      "Epoch 9: val_loss did not improve from 0.10298\n",
      "3/3 [==============================] - 0s 126ms/step - loss: 0.6794 - accuracy: 0.5650 - precision: 0.5650 - recall: 1.0000 - roc_auc: 0.6130 - val_loss: 0.6505 - val_accuracy: 0.6667 - val_precision: 0.6667 - val_recall: 1.0000 - val_roc_auc: 0.7352 - lr: 0.0010\n",
      "Epoch 10/100\n",
      "3/3 [==============================] - ETA: 0s - loss: 0.6763 - accuracy: 0.5650 - precision: 0.5650 - recall: 1.0000 - roc_auc: 0.6204\n",
      "Epoch 10: val_loss did not improve from 0.10298\n",
      "3/3 [==============================] - 0s 120ms/step - loss: 0.6763 - accuracy: 0.5650 - precision: 0.5650 - recall: 1.0000 - roc_auc: 0.6204 - val_loss: 0.6441 - val_accuracy: 0.6667 - val_precision: 0.6667 - val_recall: 1.0000 - val_roc_auc: 0.7840 - lr: 0.0010\n",
      "Epoch 11/100\n",
      "3/3 [==============================] - ETA: 0s - loss: 0.6784 - accuracy: 0.5650 - precision: 0.5650 - recall: 1.0000 - roc_auc: 0.5878\n",
      "Epoch 11: val_loss did not improve from 0.10298\n",
      "3/3 [==============================] - 0s 122ms/step - loss: 0.6784 - accuracy: 0.5650 - precision: 0.5650 - recall: 1.0000 - roc_auc: 0.5878 - val_loss: 0.6402 - val_accuracy: 0.6667 - val_precision: 0.6667 - val_recall: 1.0000 - val_roc_auc: 0.8136 - lr: 0.0010\n",
      "Epoch 12/100\n",
      "3/3 [==============================] - ETA: 0s - loss: 0.6693 - accuracy: 0.5650 - precision: 0.5650 - recall: 1.0000 - roc_auc: 0.7145\n",
      "Epoch 12: val_loss did not improve from 0.10298\n",
      "3/3 [==============================] - 0s 133ms/step - loss: 0.6693 - accuracy: 0.5650 - precision: 0.5650 - recall: 1.0000 - roc_auc: 0.7145 - val_loss: 0.6357 - val_accuracy: 0.6667 - val_precision: 0.6667 - val_recall: 1.0000 - val_roc_auc: 0.8107 - lr: 0.0010\n",
      "Epoch 13/100\n",
      "3/3 [==============================] - ETA: 0s - loss: 0.6610 - accuracy: 0.5650 - precision: 0.5650 - recall: 1.0000 - roc_auc: 0.7778\n",
      "Epoch 13: val_loss did not improve from 0.10298\n",
      "3/3 [==============================] - 0s 136ms/step - loss: 0.6610 - accuracy: 0.5650 - precision: 0.5650 - recall: 1.0000 - roc_auc: 0.7778 - val_loss: 0.6320 - val_accuracy: 0.6667 - val_precision: 0.6667 - val_recall: 1.0000 - val_roc_auc: 0.8210 - lr: 0.0010\n",
      "Epoch 14/100\n",
      "3/3 [==============================] - ETA: 0s - loss: 0.6492 - accuracy: 0.5650 - precision: 0.5650 - recall: 1.0000 - roc_auc: 0.8384\n",
      "Epoch 14: val_loss did not improve from 0.10298\n",
      "3/3 [==============================] - 0s 129ms/step - loss: 0.6492 - accuracy: 0.5650 - precision: 0.5650 - recall: 1.0000 - roc_auc: 0.8384 - val_loss: 0.6222 - val_accuracy: 0.6667 - val_precision: 0.6667 - val_recall: 1.0000 - val_roc_auc: 0.8269 - lr: 0.0010\n",
      "Epoch 15/100\n",
      "3/3 [==============================] - ETA: 0s - loss: 0.6278 - accuracy: 0.5932 - precision: 0.5814 - recall: 1.0000 - roc_auc: 0.8851\n",
      "Epoch 15: val_loss did not improve from 0.10298\n",
      "3/3 [==============================] - 0s 126ms/step - loss: 0.6278 - accuracy: 0.5932 - precision: 0.5814 - recall: 1.0000 - roc_auc: 0.8851 - val_loss: 0.6045 - val_accuracy: 0.6667 - val_precision: 0.6667 - val_recall: 1.0000 - val_roc_auc: 0.8314 - lr: 0.0010\n",
      "Epoch 16/100\n",
      "3/3 [==============================] - ETA: 0s - loss: 0.5827 - accuracy: 0.7627 - precision: 0.7042 - recall: 1.0000 - roc_auc: 0.9173\n",
      "Epoch 16: val_loss did not improve from 0.10298\n",
      "3/3 [==============================] - 0s 125ms/step - loss: 0.5827 - accuracy: 0.7627 - precision: 0.7042 - recall: 1.0000 - roc_auc: 0.9173 - val_loss: 0.5602 - val_accuracy: 0.7436 - val_precision: 0.7222 - val_recall: 1.0000 - val_roc_auc: 0.8033 - lr: 0.0010\n",
      "Epoch 17/100\n",
      "3/3 [==============================] - ETA: 0s - loss: 0.5380 - accuracy: 0.8136 - precision: 0.7519 - recall: 1.0000 - roc_auc: 0.9111\n",
      "Epoch 17: val_loss did not improve from 0.10298\n",
      "3/3 [==============================] - 0s 122ms/step - loss: 0.5380 - accuracy: 0.8136 - precision: 0.7519 - recall: 1.0000 - roc_auc: 0.9111 - val_loss: 0.5382 - val_accuracy: 0.7949 - val_precision: 0.8000 - val_recall: 0.9231 - val_roc_auc: 0.8521 - lr: 0.0010\n",
      "Epoch 18/100\n",
      "3/3 [==============================] - ETA: 0s - loss: 0.4792 - accuracy: 0.8983 - precision: 0.8661 - recall: 0.9700 - roc_auc: 0.9714\n",
      "Epoch 18: val_loss did not improve from 0.10298\n",
      "3/3 [==============================] - 0s 128ms/step - loss: 0.4792 - accuracy: 0.8983 - precision: 0.8661 - recall: 0.9700 - roc_auc: 0.9714 - val_loss: 0.4903 - val_accuracy: 0.8205 - val_precision: 0.8276 - val_recall: 0.9231 - val_roc_auc: 0.8994 - lr: 0.0010\n",
      "Epoch 19/100\n",
      "3/3 [==============================] - ETA: 0s - loss: 0.4116 - accuracy: 0.9096 - precision: 0.8621 - recall: 1.0000 - roc_auc: 0.9769\n",
      "Epoch 19: val_loss did not improve from 0.10298\n",
      "3/3 [==============================] - 0s 130ms/step - loss: 0.4116 - accuracy: 0.9096 - precision: 0.8621 - recall: 1.0000 - roc_auc: 0.9769 - val_loss: 0.4329 - val_accuracy: 0.8462 - val_precision: 0.8571 - val_recall: 0.9231 - val_roc_auc: 0.9512 - lr: 0.0010\n",
      "Epoch 20/100\n",
      "3/3 [==============================] - ETA: 0s - loss: 0.4214 - accuracy: 0.8983 - precision: 0.8475 - recall: 1.0000 - roc_auc: 0.9171\n",
      "Epoch 20: val_loss did not improve from 0.10298\n",
      "3/3 [==============================] - 0s 123ms/step - loss: 0.4214 - accuracy: 0.8983 - precision: 0.8475 - recall: 1.0000 - roc_auc: 0.9171 - val_loss: 0.3674 - val_accuracy: 0.9231 - val_precision: 0.9600 - val_recall: 0.9231 - val_roc_auc: 0.9438 - lr: 0.0010\n",
      "Epoch 21/100\n",
      "3/3 [==============================] - ETA: 0s - loss: 0.2799 - accuracy: 0.9944 - precision: 1.0000 - recall: 0.9900 - roc_auc: 0.9994\n",
      "Epoch 21: val_loss did not improve from 0.10298\n",
      "3/3 [==============================] - 0s 136ms/step - loss: 0.2799 - accuracy: 0.9944 - precision: 1.0000 - recall: 0.9900 - roc_auc: 0.9994 - val_loss: 0.2997 - val_accuracy: 0.9744 - val_precision: 0.9630 - val_recall: 1.0000 - val_roc_auc: 0.9541 - lr: 0.0010\n",
      "Epoch 22/100\n",
      "3/3 [==============================] - ETA: 0s - loss: 0.2204 - accuracy: 0.9944 - precision: 0.9901 - recall: 1.0000 - roc_auc: 0.9971\n",
      "Epoch 22: val_loss did not improve from 0.10298\n",
      "3/3 [==============================] - 0s 128ms/step - loss: 0.2204 - accuracy: 0.9944 - precision: 0.9901 - recall: 1.0000 - roc_auc: 0.9971 - val_loss: 0.3064 - val_accuracy: 0.8974 - val_precision: 0.8929 - val_recall: 0.9615 - val_roc_auc: 0.9660 - lr: 0.0010\n",
      "Epoch 23/100\n",
      "3/3 [==============================] - ETA: 0s - loss: 0.1819 - accuracy: 0.9944 - precision: 0.9901 - recall: 1.0000 - roc_auc: 0.9985\n",
      "Epoch 23: val_loss did not improve from 0.10298\n",
      "3/3 [==============================] - 0s 133ms/step - loss: 0.1819 - accuracy: 0.9944 - precision: 0.9901 - recall: 1.0000 - roc_auc: 0.9985 - val_loss: 0.2986 - val_accuracy: 0.8974 - val_precision: 0.8929 - val_recall: 0.9615 - val_roc_auc: 0.9290 - lr: 0.0010\n",
      "Epoch 24/100\n",
      "3/3 [==============================] - ETA: 0s - loss: 0.1431 - accuracy: 0.9944 - precision: 0.9901 - recall: 1.0000 - roc_auc: 0.9981\n",
      "Epoch 24: val_loss did not improve from 0.10298\n",
      "3/3 [==============================] - 0s 125ms/step - loss: 0.1431 - accuracy: 0.9944 - precision: 0.9901 - recall: 1.0000 - roc_auc: 0.9981 - val_loss: 0.3018 - val_accuracy: 0.8974 - val_precision: 0.8929 - val_recall: 0.9615 - val_roc_auc: 0.9320 - lr: 0.0010\n",
      "Epoch 25/100\n",
      "3/3 [==============================] - ETA: 0s - loss: 0.1020 - accuracy: 0.9944 - precision: 0.9901 - recall: 1.0000 - roc_auc: 1.0000\n",
      "Epoch 25: val_loss did not improve from 0.10298\n",
      "3/3 [==============================] - 0s 165ms/step - loss: 0.1020 - accuracy: 0.9944 - precision: 0.9901 - recall: 1.0000 - roc_auc: 1.0000 - val_loss: 0.3154 - val_accuracy: 0.8974 - val_precision: 0.8929 - val_recall: 0.9615 - val_roc_auc: 0.9334 - lr: 0.0010\n",
      "Epoch 26/100\n",
      "3/3 [==============================] - ETA: 0s - loss: 0.0818 - accuracy: 0.9944 - precision: 0.9901 - recall: 1.0000 - roc_auc: 0.9994\n",
      "Epoch 26: val_loss did not improve from 0.10298\n",
      "3/3 [==============================] - 0s 148ms/step - loss: 0.0818 - accuracy: 0.9944 - precision: 0.9901 - recall: 1.0000 - roc_auc: 0.9994 - val_loss: 0.3335 - val_accuracy: 0.8974 - val_precision: 0.8929 - val_recall: 0.9615 - val_roc_auc: 0.9467 - lr: 0.0010\n",
      "Epoch 27/100\n",
      "3/3 [==============================] - ETA: 0s - loss: 0.0576 - accuracy: 1.0000 - precision: 1.0000 - recall: 1.0000 - roc_auc: 1.0000\n",
      "Epoch 27: val_loss did not improve from 0.10298\n",
      "3/3 [==============================] - 0s 152ms/step - loss: 0.0576 - accuracy: 1.0000 - precision: 1.0000 - recall: 1.0000 - roc_auc: 1.0000 - val_loss: 0.3549 - val_accuracy: 0.8974 - val_precision: 0.8929 - val_recall: 0.9615 - val_roc_auc: 0.9349 - lr: 0.0010\n",
      "Epoch 28/100\n",
      "3/3 [==============================] - ETA: 0s - loss: 0.0434 - accuracy: 1.0000 - precision: 1.0000 - recall: 1.0000 - roc_auc: 1.0000\n",
      "Epoch 28: val_loss did not improve from 0.10298\n",
      "Restoring model weights from the end of the best epoch: 23.\n",
      "3/3 [==============================] - 0s 158ms/step - loss: 0.0434 - accuracy: 1.0000 - precision: 1.0000 - recall: 1.0000 - roc_auc: 1.0000 - val_loss: 0.3767 - val_accuracy: 0.8974 - val_precision: 0.8929 - val_recall: 0.9615 - val_roc_auc: 0.9541 - lr: 0.0010\n",
      "Epoch 28: early stopping\n"
     ]
    }
   ],
   "source": [
    "# Train the model\n",
    "history_lstm = model_lstm.fit(padded, y_train, epochs=num_epochs, batch_size = batch_size, validation_data=(testing_padded, y_test),\n",
    "                              callbacks=[model_checkpoint, early_stopping, reduce_lr])"
   ]
  },
  {
   "cell_type": "markdown",
   "id": "8fc51141",
   "metadata": {},
   "source": [
    "# Trying LSTM with Convolution"
   ]
  },
  {
   "cell_type": "code",
   "execution_count": 26,
   "id": "84cf17ff",
   "metadata": {},
   "outputs": [
    {
     "name": "stdout",
     "output_type": "stream",
     "text": [
      "Model: \"sequential_2\"\n",
      "_________________________________________________________________\n",
      " Layer (type)                Output Shape              Param #   \n",
      "=================================================================\n",
      " embedding_3 (Embedding)     (None, 120, 9)            90000     \n",
      "                                                                 \n",
      " conv1d_2 (Conv1D)           (None, 116, 128)          5888      \n",
      "                                                                 \n",
      " bidirectional_2 (Bidirecti  (None, 64)                41216     \n",
      " onal)                                                           \n",
      "                                                                 \n",
      " dropout_2 (Dropout)         (None, 64)                0         \n",
      "                                                                 \n",
      " dense_4 (Dense)             (None, 16)                1040      \n",
      "                                                                 \n",
      " dense_5 (Dense)             (None, 1)                 17        \n",
      "                                                                 \n",
      "=================================================================\n",
      "Total params: 138161 (539.69 KB)\n",
      "Trainable params: 138161 (539.69 KB)\n",
      "Non-trainable params: 0 (0.00 Byte)\n",
      "_________________________________________________________________\n"
     ]
    }
   ],
   "source": [
    "model = tf.keras.Sequential([\n",
    "    tf.keras.layers.Embedding(vocab_size, embedding_dim, input_length=max_length),\n",
    "    tf.keras.layers.Conv1D(filters, kernel_size, activation='relu'),\n",
    "    tf.keras.layers.Bidirectional(tf.keras.layers.LSTM(lstm_dim)),\n",
    "    tf.keras.layers.Dropout(dropout_rate),\n",
    "    tf.keras.layers.Dense(dense_dim, activation='relu'),\n",
    "    tf.keras.layers.Dense(1, activation='sigmoid')\n",
    "])\n",
    "model.compile(loss='binary_crossentropy', optimizer='adam', metrics=['accuracy', Precision(name='precision'), Recall(name='recall'), AUC(name='roc_auc')])\n",
    "\n",
    "model.summary()"
   ]
  },
  {
   "cell_type": "code",
   "execution_count": 27,
   "id": "8b2833ed",
   "metadata": {},
   "outputs": [
    {
     "name": "stdout",
     "output_type": "stream",
     "text": [
      "Epoch 1/100\n",
      "3/3 [==============================] - ETA: 0s - loss: 0.6936 - accuracy: 0.4689 - precision: 0.5341 - recall: 0.4700 - roc_auc: 0.4766\n",
      "Epoch 1: val_loss did not improve from 0.10298\n",
      "3/3 [==============================] - 7s 553ms/step - loss: 0.6936 - accuracy: 0.4689 - precision: 0.5341 - recall: 0.4700 - roc_auc: 0.4766 - val_loss: 0.6870 - val_accuracy: 0.6667 - val_precision: 0.6667 - val_recall: 1.0000 - val_roc_auc: 0.5385 - lr: 0.0010\n",
      "Epoch 2/100\n",
      "3/3 [==============================] - ETA: 0s - loss: 0.6909 - accuracy: 0.5650 - precision: 0.5650 - recall: 1.0000 - roc_auc: 0.4523\n",
      "Epoch 2: val_loss did not improve from 0.10298\n",
      "3/3 [==============================] - 0s 97ms/step - loss: 0.6909 - accuracy: 0.5650 - precision: 0.5650 - recall: 1.0000 - roc_auc: 0.4523 - val_loss: 0.6819 - val_accuracy: 0.6667 - val_precision: 0.6667 - val_recall: 1.0000 - val_roc_auc: 0.5769 - lr: 0.0010\n",
      "Epoch 3/100\n",
      "3/3 [==============================] - ETA: 0s - loss: 0.6894 - accuracy: 0.5650 - precision: 0.5650 - recall: 1.0000 - roc_auc: 0.4855\n",
      "Epoch 3: val_loss did not improve from 0.10298\n",
      "3/3 [==============================] - 0s 103ms/step - loss: 0.6894 - accuracy: 0.5650 - precision: 0.5650 - recall: 1.0000 - roc_auc: 0.4855 - val_loss: 0.6771 - val_accuracy: 0.6667 - val_precision: 0.6667 - val_recall: 1.0000 - val_roc_auc: 0.5385 - lr: 0.0010\n",
      "Epoch 4/100\n",
      "3/3 [==============================] - ETA: 0s - loss: 0.6875 - accuracy: 0.5650 - precision: 0.5650 - recall: 1.0000 - roc_auc: 0.4993\n",
      "Epoch 4: val_loss did not improve from 0.10298\n",
      "3/3 [==============================] - 0s 98ms/step - loss: 0.6875 - accuracy: 0.5650 - precision: 0.5650 - recall: 1.0000 - roc_auc: 0.4993 - val_loss: 0.6730 - val_accuracy: 0.6667 - val_precision: 0.6667 - val_recall: 1.0000 - val_roc_auc: 0.5355 - lr: 0.0010\n",
      "Epoch 5/100\n",
      "3/3 [==============================] - ETA: 0s - loss: 0.6853 - accuracy: 0.5650 - precision: 0.5650 - recall: 1.0000 - roc_auc: 0.5658\n",
      "Epoch 5: val_loss did not improve from 0.10298\n",
      "3/3 [==============================] - 0s 103ms/step - loss: 0.6853 - accuracy: 0.5650 - precision: 0.5650 - recall: 1.0000 - roc_auc: 0.5658 - val_loss: 0.6676 - val_accuracy: 0.6667 - val_precision: 0.6667 - val_recall: 1.0000 - val_roc_auc: 0.5592 - lr: 0.0010\n",
      "Epoch 6/100\n",
      "3/3 [==============================] - ETA: 0s - loss: 0.6817 - accuracy: 0.5650 - precision: 0.5650 - recall: 1.0000 - roc_auc: 0.5986\n",
      "Epoch 6: val_loss did not improve from 0.10298\n",
      "3/3 [==============================] - 0s 97ms/step - loss: 0.6817 - accuracy: 0.5650 - precision: 0.5650 - recall: 1.0000 - roc_auc: 0.5986 - val_loss: 0.6601 - val_accuracy: 0.6667 - val_precision: 0.6667 - val_recall: 1.0000 - val_roc_auc: 0.6627 - lr: 0.0010\n",
      "Epoch 7/100\n",
      "3/3 [==============================] - ETA: 0s - loss: 0.6813 - accuracy: 0.5650 - precision: 0.5650 - recall: 1.0000 - roc_auc: 0.5889\n",
      "Epoch 7: val_loss did not improve from 0.10298\n",
      "3/3 [==============================] - 0s 103ms/step - loss: 0.6813 - accuracy: 0.5650 - precision: 0.5650 - recall: 1.0000 - roc_auc: 0.5889 - val_loss: 0.6548 - val_accuracy: 0.6667 - val_precision: 0.6667 - val_recall: 1.0000 - val_roc_auc: 0.7574 - lr: 0.0010\n",
      "Epoch 8/100\n",
      "3/3 [==============================] - ETA: 0s - loss: 0.6726 - accuracy: 0.5650 - precision: 0.5650 - recall: 1.0000 - roc_auc: 0.7167\n",
      "Epoch 8: val_loss did not improve from 0.10298\n",
      "3/3 [==============================] - 0s 96ms/step - loss: 0.6726 - accuracy: 0.5650 - precision: 0.5650 - recall: 1.0000 - roc_auc: 0.7167 - val_loss: 0.6435 - val_accuracy: 0.6667 - val_precision: 0.6667 - val_recall: 1.0000 - val_roc_auc: 0.7737 - lr: 0.0010\n",
      "Epoch 9/100\n",
      "3/3 [==============================] - ETA: 0s - loss: 0.6607 - accuracy: 0.5650 - precision: 0.5650 - recall: 1.0000 - roc_auc: 0.8121\n",
      "Epoch 9: val_loss did not improve from 0.10298\n",
      "3/3 [==============================] - 0s 100ms/step - loss: 0.6607 - accuracy: 0.5650 - precision: 0.5650 - recall: 1.0000 - roc_auc: 0.8121 - val_loss: 0.6272 - val_accuracy: 0.6667 - val_precision: 0.6667 - val_recall: 1.0000 - val_roc_auc: 0.8136 - lr: 0.0010\n",
      "Epoch 10/100\n",
      "3/3 [==============================] - ETA: 0s - loss: 0.6316 - accuracy: 0.5706 - precision: 0.5682 - recall: 1.0000 - roc_auc: 0.9017\n",
      "Epoch 10: val_loss did not improve from 0.10298\n",
      "3/3 [==============================] - 0s 100ms/step - loss: 0.6316 - accuracy: 0.5706 - precision: 0.5682 - recall: 1.0000 - roc_auc: 0.9017 - val_loss: 0.5982 - val_accuracy: 0.6667 - val_precision: 0.6667 - val_recall: 1.0000 - val_roc_auc: 0.8225 - lr: 0.0010\n",
      "Epoch 11/100\n",
      "3/3 [==============================] - ETA: 0s - loss: 0.5889 - accuracy: 0.6780 - precision: 0.6369 - recall: 1.0000 - roc_auc: 0.9117\n",
      "Epoch 11: val_loss did not improve from 0.10298\n",
      "3/3 [==============================] - 0s 99ms/step - loss: 0.5889 - accuracy: 0.6780 - precision: 0.6369 - recall: 1.0000 - roc_auc: 0.9117 - val_loss: 0.5601 - val_accuracy: 0.7436 - val_precision: 0.7222 - val_recall: 1.0000 - val_roc_auc: 0.8580 - lr: 0.0010\n",
      "Epoch 12/100\n",
      "3/3 [==============================] - ETA: 0s - loss: 0.5091 - accuracy: 0.8757 - precision: 0.8197 - recall: 1.0000 - roc_auc: 0.9627\n",
      "Epoch 12: val_loss did not improve from 0.10298\n",
      "3/3 [==============================] - 0s 96ms/step - loss: 0.5091 - accuracy: 0.8757 - precision: 0.8197 - recall: 1.0000 - roc_auc: 0.9627 - val_loss: 0.5075 - val_accuracy: 0.8462 - val_precision: 0.8125 - val_recall: 1.0000 - val_roc_auc: 0.8935 - lr: 0.0010\n",
      "Epoch 13/100\n",
      "3/3 [==============================] - ETA: 0s - loss: 0.4436 - accuracy: 0.9322 - precision: 0.9231 - recall: 0.9600 - roc_auc: 0.9787\n",
      "Epoch 13: val_loss did not improve from 0.10298\n",
      "3/3 [==============================] - 0s 97ms/step - loss: 0.4436 - accuracy: 0.9322 - precision: 0.9231 - recall: 0.9600 - roc_auc: 0.9787 - val_loss: 0.4645 - val_accuracy: 0.7692 - val_precision: 0.7429 - val_recall: 1.0000 - val_roc_auc: 0.9423 - lr: 0.0010\n",
      "Epoch 14/100\n",
      "3/3 [==============================] - ETA: 0s - loss: 0.3409 - accuracy: 0.8983 - precision: 0.8475 - recall: 1.0000 - roc_auc: 0.9882\n",
      "Epoch 14: val_loss did not improve from 0.10298\n",
      "3/3 [==============================] - 0s 96ms/step - loss: 0.3409 - accuracy: 0.8983 - precision: 0.8475 - recall: 1.0000 - roc_auc: 0.9882 - val_loss: 0.3941 - val_accuracy: 0.8462 - val_precision: 0.8125 - val_recall: 1.0000 - val_roc_auc: 0.9453 - lr: 0.0010\n",
      "Epoch 15/100\n",
      "3/3 [==============================] - ETA: 0s - loss: 0.2376 - accuracy: 0.9774 - precision: 0.9706 - recall: 0.9900 - roc_auc: 0.9978\n",
      "Epoch 15: val_loss did not improve from 0.10298\n",
      "3/3 [==============================] - 0s 103ms/step - loss: 0.2376 - accuracy: 0.9774 - precision: 0.9706 - recall: 0.9900 - roc_auc: 0.9978 - val_loss: 0.3292 - val_accuracy: 0.8974 - val_precision: 0.8667 - val_recall: 1.0000 - val_roc_auc: 0.9231 - lr: 0.0010\n",
      "Epoch 16/100\n",
      "3/3 [==============================] - ETA: 0s - loss: 0.1776 - accuracy: 0.9661 - precision: 0.9434 - recall: 1.0000 - roc_auc: 0.9995\n",
      "Epoch 16: val_loss did not improve from 0.10298\n",
      "3/3 [==============================] - 0s 97ms/step - loss: 0.1776 - accuracy: 0.9661 - precision: 0.9434 - recall: 1.0000 - roc_auc: 0.9995 - val_loss: 0.3337 - val_accuracy: 0.8462 - val_precision: 0.8125 - val_recall: 1.0000 - val_roc_auc: 0.9246 - lr: 0.0010\n",
      "Epoch 17/100\n",
      "3/3 [==============================] - ETA: 0s - loss: 0.1199 - accuracy: 0.9831 - precision: 0.9709 - recall: 1.0000 - roc_auc: 0.9994\n",
      "Epoch 17: val_loss did not improve from 0.10298\n",
      "3/3 [==============================] - 0s 108ms/step - loss: 0.1199 - accuracy: 0.9831 - precision: 0.9709 - recall: 1.0000 - roc_auc: 0.9994 - val_loss: 0.2462 - val_accuracy: 0.8974 - val_precision: 0.8929 - val_recall: 0.9615 - val_roc_auc: 0.9246 - lr: 0.0010\n",
      "Epoch 18/100\n",
      "3/3 [==============================] - ETA: 0s - loss: 0.0760 - accuracy: 1.0000 - precision: 1.0000 - recall: 1.0000 - roc_auc: 1.0000\n",
      "Epoch 18: val_loss did not improve from 0.10298\n",
      "3/3 [==============================] - 0s 105ms/step - loss: 0.0760 - accuracy: 1.0000 - precision: 1.0000 - recall: 1.0000 - roc_auc: 1.0000 - val_loss: 0.2235 - val_accuracy: 0.9231 - val_precision: 0.9259 - val_recall: 0.9615 - val_roc_auc: 0.9246 - lr: 0.0010\n",
      "Epoch 19/100\n",
      "3/3 [==============================] - ETA: 0s - loss: 0.0502 - accuracy: 1.0000 - precision: 1.0000 - recall: 1.0000 - roc_auc: 1.0000\n",
      "Epoch 19: val_loss did not improve from 0.10298\n",
      "3/3 [==============================] - 0s 96ms/step - loss: 0.0502 - accuracy: 1.0000 - precision: 1.0000 - recall: 1.0000 - roc_auc: 1.0000 - val_loss: 0.2607 - val_accuracy: 0.8974 - val_precision: 0.8667 - val_recall: 1.0000 - val_roc_auc: 0.9275 - lr: 0.0010\n",
      "Epoch 20/100\n",
      "3/3 [==============================] - ETA: 0s - loss: 0.0344 - accuracy: 1.0000 - precision: 1.0000 - recall: 1.0000 - roc_auc: 1.0000\n",
      "Epoch 20: val_loss did not improve from 0.10298\n",
      "3/3 [==============================] - 0s 106ms/step - loss: 0.0344 - accuracy: 1.0000 - precision: 1.0000 - recall: 1.0000 - roc_auc: 1.0000 - val_loss: 0.2770 - val_accuracy: 0.8974 - val_precision: 0.8667 - val_recall: 1.0000 - val_roc_auc: 0.9275 - lr: 0.0010\n",
      "Epoch 21/100\n",
      "3/3 [==============================] - ETA: 0s - loss: 0.0272 - accuracy: 1.0000 - precision: 1.0000 - recall: 1.0000 - roc_auc: 1.0000\n",
      "Epoch 21: val_loss did not improve from 0.10298\n",
      "3/3 [==============================] - 0s 98ms/step - loss: 0.0272 - accuracy: 1.0000 - precision: 1.0000 - recall: 1.0000 - roc_auc: 1.0000 - val_loss: 0.2024 - val_accuracy: 0.9487 - val_precision: 0.9286 - val_recall: 1.0000 - val_roc_auc: 0.9393 - lr: 0.0010\n",
      "Epoch 22/100\n",
      "3/3 [==============================] - ETA: 0s - loss: 0.0156 - accuracy: 1.0000 - precision: 1.0000 - recall: 1.0000 - roc_auc: 1.0000\n",
      "Epoch 22: val_loss did not improve from 0.10298\n",
      "3/3 [==============================] - 0s 102ms/step - loss: 0.0156 - accuracy: 1.0000 - precision: 1.0000 - recall: 1.0000 - roc_auc: 1.0000 - val_loss: 0.1968 - val_accuracy: 0.9487 - val_precision: 0.9615 - val_recall: 0.9615 - val_roc_auc: 0.9260 - lr: 0.0010\n",
      "Epoch 23/100\n",
      "3/3 [==============================] - ETA: 0s - loss: 0.0142 - accuracy: 0.9944 - precision: 1.0000 - recall: 0.9900 - roc_auc: 1.0000\n",
      "Epoch 23: val_loss did not improve from 0.10298\n",
      "3/3 [==============================] - 0s 98ms/step - loss: 0.0142 - accuracy: 0.9944 - precision: 1.0000 - recall: 0.9900 - roc_auc: 1.0000 - val_loss: 0.1973 - val_accuracy: 0.9487 - val_precision: 0.9615 - val_recall: 0.9615 - val_roc_auc: 0.9423 - lr: 0.0010\n",
      "Epoch 24/100\n",
      "3/3 [==============================] - ETA: 0s - loss: 0.0109 - accuracy: 1.0000 - precision: 1.0000 - recall: 1.0000 - roc_auc: 1.0000\n",
      "Epoch 24: val_loss did not improve from 0.10298\n",
      "3/3 [==============================] - 0s 99ms/step - loss: 0.0109 - accuracy: 1.0000 - precision: 1.0000 - recall: 1.0000 - roc_auc: 1.0000 - val_loss: 0.2099 - val_accuracy: 0.9487 - val_precision: 0.9286 - val_recall: 1.0000 - val_roc_auc: 0.9512 - lr: 0.0010\n",
      "Epoch 25/100\n",
      "3/3 [==============================] - ETA: 0s - loss: 0.0086 - accuracy: 1.0000 - precision: 1.0000 - recall: 1.0000 - roc_auc: 1.0000\n",
      "Epoch 25: val_loss did not improve from 0.10298\n",
      "3/3 [==============================] - 0s 95ms/step - loss: 0.0086 - accuracy: 1.0000 - precision: 1.0000 - recall: 1.0000 - roc_auc: 1.0000 - val_loss: 0.2335 - val_accuracy: 0.9231 - val_precision: 0.8966 - val_recall: 1.0000 - val_roc_auc: 0.9556 - lr: 0.0010\n",
      "Epoch 26/100\n",
      "3/3 [==============================] - ETA: 0s - loss: 0.0057 - accuracy: 1.0000 - precision: 1.0000 - recall: 1.0000 - roc_auc: 1.0000\n",
      "Epoch 26: val_loss did not improve from 0.10298\n",
      "3/3 [==============================] - 0s 99ms/step - loss: 0.0057 - accuracy: 1.0000 - precision: 1.0000 - recall: 1.0000 - roc_auc: 1.0000 - val_loss: 0.2447 - val_accuracy: 0.9231 - val_precision: 0.8966 - val_recall: 1.0000 - val_roc_auc: 0.9601 - lr: 0.0010\n",
      "Epoch 27/100\n",
      "3/3 [==============================] - ETA: 0s - loss: 0.0059 - accuracy: 1.0000 - precision: 1.0000 - recall: 1.0000 - roc_auc: 1.0000\n",
      "Epoch 27: val_loss did not improve from 0.10298\n",
      "Restoring model weights from the end of the best epoch: 22.\n",
      "3/3 [==============================] - 0s 96ms/step - loss: 0.0059 - accuracy: 1.0000 - precision: 1.0000 - recall: 1.0000 - roc_auc: 1.0000 - val_loss: 0.2474 - val_accuracy: 0.9231 - val_precision: 0.8966 - val_recall: 1.0000 - val_roc_auc: 0.9601 - lr: 0.0010\n",
      "Epoch 27: early stopping\n"
     ]
    }
   ],
   "source": [
    "# Train the model\n",
    "history = model.fit(padded, y_train, epochs=num_epochs, batch_size = batch_size, validation_data=(testing_padded, y_test),\n",
    "                              callbacks=[model_checkpoint, early_stopping, reduce_lr])"
   ]
  },
  {
   "cell_type": "code",
   "execution_count": 28,
   "id": "929613f6",
   "metadata": {},
   "outputs": [],
   "source": [
    "def plot_metrics(history, metrics):\n",
    "    \"\"\"\n",
    "    Plot specified metrics from the training history.\n",
    "    \n",
    "    Parameters:\n",
    "    - history: Training history object from model.fit\n",
    "    - metrics: List of metric names to plot\n",
    "    \n",
    "    Example usage:\n",
    "    plot_metrics(history_lstm, [\"accuracy\", \"loss\", \"recall\", \"precision\", \"roc_auc\"])\n",
    "    \"\"\"\n",
    "    \n",
    "    # Define the number of subplots based on the number of metrics\n",
    "    num_metrics = len(metrics)\n",
    "    fig, axes = plt.subplots(1, num_metrics, figsize=(15, 4))\n",
    "\n",
    "    # Iterate through the metrics and plot them\n",
    "    for i, metric in enumerate(metrics):\n",
    "        ax = axes[i]\n",
    "        ax.plot(history.history[metric], label=metric)\n",
    "        ax.plot(history.history['val_'+metric], label='val_'+metric)\n",
    "        ax.set_xlabel(\"Epochs\")\n",
    "        ax.set_ylabel(metric)\n",
    "        ax.legend()\n",
    "\n",
    "    plt.tight_layout()\n",
    "    plt.show()\n"
   ]
  },
  {
   "cell_type": "code",
   "execution_count": 29,
   "id": "83793a9c",
   "metadata": {},
   "outputs": [
    {
     "data": {
      "image/png": "[encoded data removed]",
      "text/plain": [
       "<Figure size 1080x288 with 5 Axes>"
      ]
     },
     "metadata": {
      "needs_background": "light"
     },
     "output_type": "display_data"
    },
    {
     "data": {
      "image/png": "[encoded data removed]",
      "text/plain": [
       "<Figure size 1080x288 with 5 Axes>"
      ]
     },
     "metadata": {
      "needs_background": "light"
     },
     "output_type": "display_data"
    },
    {
     "data": {
      "image/png": "[encoded data removed]",
      "text/plain": [
       "<Figure size 1080x288 with 5 Axes>"
      ]
     },
     "metadata": {
      "needs_background": "light"
     },
     "output_type": "display_data"
    }
   ],
   "source": [
    "# Display metric for different model\n",
    "plot_metrics(history_conv, [\"accuracy\", \"loss\", \"recall\", \"precision\", \"roc_auc\"])\n",
    "plot_metrics(history_lstm, [\"accuracy\", \"loss\", \"recall\", \"precision\", \"roc_auc\"])\n",
    "plot_metrics(history, [\"accuracy\", \"loss\", \"recall\", \"precision\", \"roc_auc\"])\n",
    "\n",
    "# Attention: model with LSTM. The val_loss increased - maybe overfitting"
   ]
  },
  {
   "cell_type": "code",
   "execution_count": 30,
   "id": "604113d0",
   "metadata": {},
   "outputs": [
    {
     "name": "stdout",
     "output_type": "stream",
     "text": [
      "2/2 [==============================] - 0s 3ms/step\n",
      "Accuracy: 0.97\n",
      "Classification Report:\n",
      "               precision    recall  f1-score   support\n",
      "\n",
      "           0       0.92      1.00      0.96        12\n",
      "           1       1.00      0.96      0.98        26\n",
      "\n",
      "    accuracy                           0.97        38\n",
      "   macro avg       0.96      0.98      0.97        38\n",
      "weighted avg       0.98      0.97      0.97        38\n",
      "\n"
     ]
    },
    {
     "name": "stderr",
     "output_type": "stream",
     "text": [
      "D:\\anaconda\\lib\\site-packages\\keras\\src\\engine\\training.py:3000: UserWarning: You are saving your model as an HDF5 file via `model.save()`. This file format is considered legacy. We recommend using instead the native Keras format, e.g. `model.save('my_model.keras')`.\n",
      "  saving_api.save_model(\n"
     ]
    }
   ],
   "source": [
    "# Generate and pad the training sequences\n",
    "sequences = tokenizer.texts_to_sequences(X_dev)\n",
    "padded = pad_sequences(sequences,maxlen=max_length, truncating=trunc_type)\n",
    "y_pred = model_conv.predict(padded)\n",
    "\n",
    "# Save the model of model with conv\n",
    "model_conv.save('model_conv.h5')\n",
    "\n",
    "# Convert predicted probabilities to binary labels\n",
    "y_pred_binary = (y_pred > 0.5).astype(int)\n",
    "\n",
    "accuracy = accuracy_score(y_dev, y_pred_binary)\n",
    "print(f\"Accuracy: {accuracy:.2f}\")\n",
    "\n",
    "# Generate a classification report\n",
    "class_report = classification_report(y_dev, y_pred_binary)\n",
    "print(\"Classification Report:\\n\", class_report)\n",
    "\n"
   ]
  },
  {
   "cell_type": "code",
   "execution_count": null,
   "id": "aa18e80b",
   "metadata": {},
   "outputs": [],
   "source": []
  }
 ],
 "metadata": {
  "kernelspec": {
   "display_name": "Python 3",
   "language": "python",
   "name": "python3"
  },
  "language_info": {
   "codemirror_mode": {
    "name": "ipython",
    "version": 3
   },
   "file_extension": ".py",
   "mimetype": "text/x-python",
   "name": "python",
   "nbconvert_exporter": "python",
   "pygments_lexer": "ipython3",
   "version": "3.8.8"
  }
 },
 "nbformat": 4,
 "nbformat_minor": 5
}
